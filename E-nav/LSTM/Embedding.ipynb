{
 "cells": [
  {
   "cell_type": "code",
   "execution_count": 40,
   "metadata": {},
   "outputs": [],
   "source": [
    "import pandas as pd\n",
    "import numpy as np\n",
    "import os\n",
    "import tensorflow as tf\n",
    "import collections\n",
    "import pickle\n",
    "import datetime\n",
    "import re"
   ]
  },
  {
   "cell_type": "code",
   "execution_count": 41,
   "metadata": {},
   "outputs": [],
   "source": [
    "from nltk.corpus import stopwords\n",
    "from nltk.stem.snowball import SnowballStemmer\n",
    "from konlpy.tag import Kkma, Okt\n",
    "from konlpy.utils import pprint"
   ]
  },
  {
   "cell_type": "code",
   "execution_count": 42,
   "metadata": {},
   "outputs": [],
   "source": [
    "with open('data_for_classification.pickle', 'rb') as f :\n",
    "    raw_data = pickle.load(f)"
   ]
  },
  {
   "cell_type": "code",
   "execution_count": 43,
   "metadata": {},
   "outputs": [
    {
     "data": {
      "text/plain": [
       "Category\n",
       "도선    1788\n",
       "선박    1710\n",
       "양묘     684\n",
       "육상    4141\n",
       "이동    1534\n",
       "입항    1596\n",
       "접안    1311\n",
       "출항    2674\n",
       "통과    2932\n",
       "투묘    2942\n",
       "횡단     583\n",
       "Name: Language, dtype: int64"
      ]
     },
     "execution_count": 43,
     "metadata": {},
     "output_type": "execute_result"
    }
   ],
   "source": [
    "raw_data.groupby('Category')['Language'].count()"
   ]
  },
  {
   "cell_type": "code",
   "execution_count": 44,
   "metadata": {},
   "outputs": [],
   "source": [
    "script_en = raw_data[raw_data.Language == 'EN'].Script\n",
    "script_kor = raw_data[raw_data.Language == 'KR'].Script"
   ]
  },
  {
   "cell_type": "code",
   "execution_count": 45,
   "metadata": {},
   "outputs": [],
   "source": [
    "text_en = script_en.values\n",
    "text_kor = script_kor.values"
   ]
  },
  {
   "cell_type": "code",
   "execution_count": 46,
   "metadata": {},
   "outputs": [],
   "source": [
    "def clean_str(s):\n",
    "    # only include alphanumerics\n",
    "    s = re.sub(r\"[^A-Za-z0-9(),!?\\'\\`]\", \" \", s)\n",
    "    \n",
    "    # insert spaces in words with apostrophes\n",
    "    s = re.sub(r\"\\'s\", \" \\'s\", s)\n",
    "    s = re.sub(r\"\\'ve\", \" \\'ve\", s)\n",
    "    s = re.sub(r\"n\\'t\", \" n\\'t\", s)\n",
    "    s = re.sub(r\"\\'re\", \" \\'re\", s)\n",
    "    s = re.sub(r\"\\'d\", \" \\'d\", s)\n",
    "    s = re.sub(r\"\\'ll\", \" \\'ll\", s)\n",
    "    \n",
    "    # 숫자라는 정보만 가져오기 위해 모든 숫자 0으로 통일\n",
    "    s = re.sub(r'[0-9]+', '0', s)\n",
    "    \n",
    "    \n",
    "    # insert spaces in special characters\n",
    "    s = re.sub(r\",\", \" , \", s)\n",
    "    s = re.sub(r\"!\", \" ! \", s)\n",
    "    s = re.sub(r\"\\(\", \" \\( \", s)\n",
    "    s = re.sub(r\"\\)\", \" \\) \", s)\n",
    "    s = re.sub(r\"\\?\", \" \\? \", s)\n",
    "    \n",
    "    # only include alphanumerics again\n",
    "    s = re.sub(r\"[^A-Za-z0-9(),!?\\'\\`]\", \" \", s)\n",
    "    \n",
    "    # reduce multiple spaces to single spaces\n",
    "    s = re.sub(r\"\\s{2,}\", \" \", s)\n",
    "    return s.strip().lower()"
   ]
  },
  {
   "cell_type": "code",
   "execution_count": 47,
   "metadata": {},
   "outputs": [],
   "source": [
    "def stopword_stem(sentence):\n",
    "    stemmer = SnowballStemmer(\"english\")\n",
    "    stopword_set = set(stopwords.words('english'))\n",
    "    \n",
    "    split_sentence = sentence.split()\n",
    "    stem_sentence = []\n",
    "    for word in split_sentence:\n",
    "        stem_word = stemmer.stem(word)\n",
    "        stem_sentence.append(stem_word)\n",
    "    filtered_sentence = [w for w in stem_sentence if not w in stopword_set]  \n",
    "    return \" \".join(filtered_sentence)"
   ]
  },
  {
   "cell_type": "code",
   "execution_count": 48,
   "metadata": {},
   "outputs": [],
   "source": [
    "text_en = np.reshape(text_en, [-1])\n",
    "text_en = text_en.tolist()\n",
    "clean_en = clean_data = [clean_str(x) for x in text_en]"
   ]
  },
  {
   "cell_type": "code",
   "execution_count": 49,
   "metadata": {},
   "outputs": [],
   "source": [
    "clean_en = [stopword_stem(x) for x in clean_en]"
   ]
  },
  {
   "cell_type": "code",
   "execution_count": 50,
   "metadata": {},
   "outputs": [
    {
     "name": "stdout",
     "output_type": "stream",
     "text": [
      "vocab size is 943\n"
     ]
    }
   ],
   "source": [
    "vocab = []\n",
    "for text in clean_en:\n",
    "    split_text = text.split()\n",
    "    vocab.extend(split_text)\n",
    "vocab = set(vocab)    \n",
    "vocab_size = len(vocab)\n",
    "print(\"vocab size is %d\"%vocab_size)"
   ]
  },
  {
   "cell_type": "code",
   "execution_count": 51,
   "metadata": {},
   "outputs": [],
   "source": [
    "def clean_str(s):\n",
    "    # only include alphanumerics and Korean\n",
    "    s = re.sub(r\"[^A-Za-z0-9가-힣(),!?\\'\\`]\", \" \", s)\n",
    "    \n",
    "    # insert spaces in words with apostrophes\n",
    "    s = re.sub(r\"\\'s\", \" \\'s\", s)\n",
    "    s = re.sub(r\"\\'ve\", \" \\'ve\", s)\n",
    "    s = re.sub(r\"n\\'t\", \" n\\'t\", s)\n",
    "    s = re.sub(r\"\\'re\", \" \\'re\", s)\n",
    "    s = re.sub(r\"\\'d\", \" \\'d\", s)\n",
    "    s = re.sub(r\"\\'ll\", \" \\'ll\", s)\n",
    "    \n",
    "    # 숫자라는 정보만 가져오기 위해 모든 숫자 0으로 통일\n",
    "    s = re.sub(r'[0-9]+', '0', s)\n",
    "    \n",
    "    # insert spaces in special characters\n",
    "    s = re.sub(r\",\", \" , \", s)\n",
    "    s = re.sub(r\"!\", \" ! \", s)\n",
    "    s = re.sub(r\"\\(\", \" \\( \", s)\n",
    "    s = re.sub(r\"\\)\", \" \\) \", s)\n",
    "    s = re.sub(r\"\\?\", \" \\? \", s)\n",
    "    \n",
    "    # only include alphanumerics and Korean again\n",
    "    s = re.sub(r\"[^A-Za-z0-9가-힣(),!?\\'\\`]\", \" \", s)\n",
    "    \n",
    "    # reduce multiple spaces to single spaces\n",
    "    s = re.sub(r\"\\s{2,}\", \" \", s)\n",
    "    return s.strip().lower()"
   ]
  },
  {
   "cell_type": "code",
   "execution_count": 52,
   "metadata": {},
   "outputs": [],
   "source": [
    "clean_kor = [clean_str(x) for x in text_kor]"
   ]
  },
  {
   "cell_type": "code",
   "execution_count": 53,
   "metadata": {},
   "outputs": [],
   "source": [
    "kkma = Kkma()"
   ]
  },
  {
   "cell_type": "code",
   "execution_count": 54,
   "metadata": {},
   "outputs": [],
   "source": [
    "kor_pos = [kkma.pos(x) for x in clean_kor]"
   ]
  },
  {
   "cell_type": "code",
   "execution_count": 55,
   "metadata": {},
   "outputs": [],
   "source": [
    "kor_token = [kkma.morphs(x) for x in clean_kor]"
   ]
  },
  {
   "cell_type": "code",
   "execution_count": 56,
   "metadata": {},
   "outputs": [],
   "source": [
    "kor_nouns = [kkma.nouns(x) for x in clean_kor]"
   ]
  },
  {
   "cell_type": "code",
   "execution_count": 57,
   "metadata": {},
   "outputs": [],
   "source": [
    "from gensim.models import Word2Vec"
   ]
  },
  {
   "cell_type": "code",
   "execution_count": 84,
   "metadata": {},
   "outputs": [],
   "source": [
    "#명사만\n",
    "embedding_model = Word2Vec(kor_nouns, size=300, window = 10, alpha = 0.025, min_count = 10, workers=8, iter=500, sg=1, compute_loss = True)\n",
    "wordmodelname = 'kr_word2vec_noun.model'\n",
    "filename = 'train_kr_noun.pkl'\n",
    "docmodelname = 'kr_doc2vec_noun.model'\n",
    "\n",
    "#raw data\n",
    "# embedding_model = Word2Vec(list(map(lambda x : x.split(), clean_kor)), size=300, window = 10, min_count = 10, workers=8, iter=500, sg=1, compute_loss = True)\n",
    "# wordmodelname = 'kr_word2vec_raw.model'\n",
    "# filename = 'train_kr_raw.pkl'\n",
    "# docmodelname = 'kr_doc2vec_raw.model'\n",
    "\n",
    "#모든 token\n",
    "# embedding_model = Word2Vec(kor_token, size=300, window = 10, min_count = 10, workers=8, iter=500, sg=1, compute_loss = True)\n",
    "# wordmodelname = 'kr_word2vec_all.model'\n",
    "# filename = 'train_kr_all.pkl'\n",
    "# docmodelname = 'kr_doc2vec_all.model'"
   ]
  },
  {
   "cell_type": "code",
   "execution_count": 59,
   "metadata": {},
   "outputs": [],
   "source": [
    "embedding_model.init_sims(replace=True)"
   ]
  },
  {
   "cell_type": "code",
   "execution_count": 60,
   "metadata": {},
   "outputs": [],
   "source": [
    "kor_vectors = embedding_model.wv.vectors"
   ]
  },
  {
   "cell_type": "code",
   "execution_count": 61,
   "metadata": {},
   "outputs": [
    {
     "data": {
      "text/plain": [
       "(792, 300)"
      ]
     },
     "execution_count": 61,
     "metadata": {},
     "output_type": "execute_result"
    }
   ],
   "source": [
    "kor_vectors.shape"
   ]
  },
  {
   "cell_type": "code",
   "execution_count": 62,
   "metadata": {},
   "outputs": [],
   "source": [
    "kor_vocab = embedding_model.wv.index2word"
   ]
  },
  {
   "cell_type": "code",
   "execution_count": 63,
   "metadata": {},
   "outputs": [],
   "source": [
    "kor_embedding = [kor_vocab, kor_vectors]"
   ]
  },
  {
   "cell_type": "code",
   "execution_count": 86,
   "metadata": {},
   "outputs": [],
   "source": [
    "train_kr = raw_data[raw_data.Language == 'KR']"
   ]
  },
  {
   "cell_type": "code",
   "execution_count": 87,
   "metadata": {},
   "outputs": [
    {
     "name": "stderr",
     "output_type": "stream",
     "text": [
      "/home/jin-lab/anaconda3/lib/python3.5/site-packages/pandas/core/generic.py:4401: SettingWithCopyWarning: \n",
      "A value is trying to be set on a copy of a slice from a DataFrame.\n",
      "Try using .loc[row_indexer,col_indexer] = value instead\n",
      "\n",
      "See the caveats in the documentation: http://pandas.pydata.org/pandas-docs/stable/indexing.html#indexing-view-versus-copy\n",
      "  self[name] = value\n"
     ]
    }
   ],
   "source": [
    "train_kr.Script = train_kr.Script.map(clean_str)"
   ]
  },
  {
   "cell_type": "code",
   "execution_count": 88,
   "metadata": {},
   "outputs": [
    {
     "name": "stderr",
     "output_type": "stream",
     "text": [
      "/home/jin-lab/anaconda3/lib/python3.5/site-packages/pandas/core/generic.py:4401: SettingWithCopyWarning: \n",
      "A value is trying to be set on a copy of a slice from a DataFrame.\n",
      "Try using .loc[row_indexer,col_indexer] = value instead\n",
      "\n",
      "See the caveats in the documentation: http://pandas.pydata.org/pandas-docs/stable/indexing.html#indexing-view-versus-copy\n",
      "  self[name] = value\n"
     ]
    }
   ],
   "source": [
    "train_kr.Script = train_kr.Script.map(kkma.nouns)"
   ]
  },
  {
   "cell_type": "code",
   "execution_count": 68,
   "metadata": {},
   "outputs": [],
   "source": [
    "embedding_model.save(wordmodelname)"
   ]
  },
  {
   "cell_type": "code",
   "execution_count": 69,
   "metadata": {},
   "outputs": [],
   "source": [
    "embedding_model = Word2Vec.load(wordmodelname)"
   ]
  },
  {
   "cell_type": "code",
   "execution_count": 70,
   "metadata": {},
   "outputs": [
    {
     "data": {
      "text/plain": [
       "[('히', 0.42756569385528564),\n",
       " ('주의', 0.2500979006290436),\n",
       " ('잘', 0.23382820188999176),\n",
       " ('안전', 0.2296481430530548),\n",
       " ('건너가', 0.22516773641109467),\n",
       " ('정보', 0.22209471464157104),\n",
       " ('ㅂ시오', 0.21655811369419098),\n",
       " ('곳', 0.21358218789100647),\n",
       " ('calling', 0.20614121854305267),\n",
       " ('세요', 0.20552211999893188)]"
      ]
     },
     "execution_count": 70,
     "metadata": {},
     "output_type": "execute_result"
    }
   ],
   "source": [
    "embedding_model.wv.most_similar('조심')"
   ]
  },
  {
   "cell_type": "code",
   "execution_count": 89,
   "metadata": {},
   "outputs": [],
   "source": [
    "with open(filename, 'wb') as f :\n",
    "    pickle.dump(train_kr, f)"
   ]
  },
  {
   "cell_type": "code",
   "execution_count": 73,
   "metadata": {},
   "outputs": [],
   "source": [
    "from gensim.models.doc2vec import Doc2Vec, TaggedDocument"
   ]
  },
  {
   "cell_type": "code",
   "execution_count": 74,
   "metadata": {},
   "outputs": [],
   "source": [
    "tagged_kr = [TaggedDocument(train_kr.Script.iloc[i], tags = [str(i)]) for i in range(len(train_kr))]"
   ]
  },
  {
   "cell_type": "code",
   "execution_count": 75,
   "metadata": {},
   "outputs": [],
   "source": [
    "max_epochs = 300\n",
    "vec_size = 300\n",
    "alpha = 0.025"
   ]
  },
  {
   "cell_type": "code",
   "execution_count": 76,
   "metadata": {},
   "outputs": [],
   "source": [
    "model = Doc2Vec(vector_size = vec_size,\n",
    "                alpha = alpha,\n",
    "                min_count = 10)"
   ]
  },
  {
   "cell_type": "code",
   "execution_count": 77,
   "metadata": {},
   "outputs": [],
   "source": [
    "model.build_vocab(tagged_kr)"
   ]
  },
  {
   "cell_type": "code",
   "execution_count": 81,
   "metadata": {},
   "outputs": [
    {
     "name": "stdout",
     "output_type": "stream",
     "text": [
      "iteration 0\n",
      "iteration 1\n",
      "iteration 2\n",
      "iteration 3\n",
      "iteration 4\n",
      "iteration 5\n",
      "iteration 6\n",
      "iteration 7\n",
      "iteration 8\n",
      "iteration 9\n",
      "iteration 10\n",
      "iteration 11\n",
      "iteration 12\n",
      "iteration 13\n",
      "iteration 14\n",
      "iteration 15\n",
      "iteration 16\n",
      "iteration 17\n",
      "iteration 18\n",
      "iteration 19\n",
      "iteration 20\n",
      "iteration 21\n",
      "iteration 22\n",
      "iteration 23\n",
      "iteration 24\n",
      "iteration 25\n",
      "iteration 26\n",
      "iteration 27\n",
      "iteration 28\n",
      "iteration 29\n",
      "iteration 30\n",
      "iteration 31\n",
      "iteration 32\n",
      "iteration 33\n",
      "iteration 34\n",
      "iteration 35\n",
      "iteration 36\n",
      "iteration 37\n",
      "iteration 38\n",
      "iteration 39\n",
      "iteration 40\n",
      "iteration 41\n",
      "iteration 42\n",
      "iteration 43\n",
      "iteration 44\n",
      "iteration 45\n",
      "iteration 46\n",
      "iteration 47\n",
      "iteration 48\n",
      "iteration 49\n",
      "iteration 50\n",
      "iteration 51\n",
      "iteration 52\n",
      "iteration 53\n",
      "iteration 54\n",
      "iteration 55\n",
      "iteration 56\n",
      "iteration 57\n",
      "iteration 58\n",
      "iteration 59\n",
      "iteration 60\n",
      "iteration 61\n",
      "iteration 62\n",
      "iteration 63\n",
      "iteration 64\n",
      "iteration 65\n",
      "iteration 66\n",
      "iteration 67\n",
      "iteration 68\n",
      "iteration 69\n",
      "iteration 70\n",
      "iteration 71\n",
      "iteration 72\n",
      "iteration 73\n",
      "iteration 74\n",
      "iteration 75\n",
      "iteration 76\n",
      "iteration 77\n",
      "iteration 78\n",
      "iteration 79\n",
      "iteration 80\n",
      "iteration 81\n",
      "iteration 82\n",
      "iteration 83\n",
      "iteration 84\n",
      "iteration 85\n",
      "iteration 86\n",
      "iteration 87\n",
      "iteration 88\n",
      "iteration 89\n",
      "iteration 90\n",
      "iteration 91\n",
      "iteration 92\n",
      "iteration 93\n",
      "iteration 94\n",
      "iteration 95\n",
      "iteration 96\n",
      "iteration 97\n",
      "iteration 98\n",
      "iteration 99\n",
      "iteration 100\n",
      "iteration 101\n",
      "iteration 102\n",
      "iteration 103\n",
      "iteration 104\n",
      "iteration 105\n",
      "iteration 106\n",
      "iteration 107\n",
      "iteration 108\n",
      "iteration 109\n",
      "iteration 110\n",
      "iteration 111\n",
      "iteration 112\n",
      "iteration 113\n",
      "iteration 114\n",
      "iteration 115\n",
      "iteration 116\n",
      "iteration 117\n",
      "iteration 118\n",
      "iteration 119\n",
      "iteration 120\n",
      "iteration 121\n",
      "iteration 122\n",
      "iteration 123\n",
      "iteration 124\n",
      "iteration 125\n",
      "iteration 126\n",
      "iteration 127\n",
      "iteration 128\n",
      "iteration 129\n",
      "iteration 130\n",
      "iteration 131\n",
      "iteration 132\n",
      "iteration 133\n",
      "iteration 134\n",
      "iteration 135\n",
      "iteration 136\n",
      "iteration 137\n",
      "iteration 138\n",
      "iteration 139\n",
      "iteration 140\n",
      "iteration 141\n",
      "iteration 142\n",
      "iteration 143\n",
      "iteration 144\n",
      "iteration 145\n",
      "iteration 146\n",
      "iteration 147\n",
      "iteration 148\n",
      "iteration 149\n",
      "iteration 150\n",
      "iteration 151\n",
      "iteration 152\n",
      "iteration 153\n",
      "iteration 154\n",
      "iteration 155\n",
      "iteration 156\n",
      "iteration 157\n",
      "iteration 158\n",
      "iteration 159\n",
      "iteration 160\n",
      "iteration 161\n",
      "iteration 162\n",
      "iteration 163\n",
      "iteration 164\n",
      "iteration 165\n",
      "iteration 166\n",
      "iteration 167\n",
      "iteration 168\n",
      "iteration 169\n",
      "iteration 170\n",
      "iteration 171\n",
      "iteration 172\n",
      "iteration 173\n",
      "iteration 174\n",
      "iteration 175\n",
      "iteration 176\n",
      "iteration 177\n",
      "iteration 178\n",
      "iteration 179\n",
      "iteration 180\n",
      "iteration 181\n",
      "iteration 182\n",
      "iteration 183\n",
      "iteration 184\n",
      "iteration 185\n",
      "iteration 186\n",
      "iteration 187\n",
      "iteration 188\n",
      "iteration 189\n",
      "iteration 190\n",
      "iteration 191\n",
      "iteration 192\n",
      "iteration 193\n",
      "iteration 194\n",
      "iteration 195\n",
      "iteration 196\n",
      "iteration 197\n",
      "iteration 198\n",
      "iteration 199\n",
      "iteration 200\n",
      "iteration 201\n",
      "iteration 202\n",
      "iteration 203\n",
      "iteration 204\n",
      "iteration 205\n",
      "iteration 206\n",
      "iteration 207\n",
      "iteration 208\n",
      "iteration 209\n",
      "iteration 210\n",
      "iteration 211\n",
      "iteration 212\n",
      "iteration 213\n",
      "iteration 214\n",
      "iteration 215\n",
      "iteration 216\n",
      "iteration 217\n",
      "iteration 218\n",
      "iteration 219\n",
      "iteration 220\n",
      "iteration 221\n",
      "iteration 222\n",
      "iteration 223\n",
      "iteration 224\n",
      "iteration 225\n",
      "iteration 226\n",
      "iteration 227\n",
      "iteration 228\n",
      "iteration 229\n",
      "iteration 230\n",
      "iteration 231\n",
      "iteration 232\n",
      "iteration 233\n",
      "iteration 234\n",
      "iteration 235\n",
      "iteration 236\n",
      "iteration 237\n",
      "iteration 238\n",
      "iteration 239\n",
      "iteration 240\n",
      "iteration 241\n",
      "iteration 242\n",
      "iteration 243\n",
      "iteration 244\n",
      "iteration 245\n",
      "iteration 246\n",
      "iteration 247\n",
      "iteration 248\n",
      "iteration 249\n",
      "iteration 250\n",
      "iteration 251\n",
      "iteration 252\n",
      "iteration 253\n",
      "iteration 254\n",
      "iteration 255\n",
      "iteration 256\n",
      "iteration 257\n",
      "iteration 258\n",
      "iteration 259\n",
      "iteration 260\n",
      "iteration 261\n",
      "iteration 262\n",
      "iteration 263\n",
      "iteration 264\n",
      "iteration 265\n",
      "iteration 266\n",
      "iteration 267\n",
      "iteration 268\n",
      "iteration 269\n",
      "iteration 270\n",
      "iteration 271\n",
      "iteration 272\n",
      "iteration 273\n",
      "iteration 274\n",
      "iteration 275\n",
      "iteration 276\n",
      "iteration 277\n",
      "iteration 278\n",
      "iteration 279\n",
      "iteration 280\n",
      "iteration 281\n",
      "iteration 282\n",
      "iteration 283\n",
      "iteration 284\n",
      "iteration 285\n",
      "iteration 286\n",
      "iteration 287\n",
      "iteration 288\n",
      "iteration 289\n",
      "iteration 290\n",
      "iteration 291\n",
      "iteration 292\n",
      "iteration 293\n",
      "iteration 294\n",
      "iteration 295\n",
      "iteration 296\n",
      "iteration 297\n",
      "iteration 298\n",
      "iteration 299\n"
     ]
    }
   ],
   "source": [
    "for epoch in range(max_epochs):\n",
    "    print('iteration {0}'.format(epoch))\n",
    "    model.train(tagged_kr,\n",
    "                total_examples=model.corpus_count,\n",
    "                epochs=model.epochs)\n",
    "    # decrease the learning rate\n",
    "    if epoch * 10 == 0 :\n",
    "        model.alpha *= 0.001\n",
    "\n",
    "# model.save(\"d2v.model\")\n",
    "# print(\"Model Saved\")"
   ]
  },
  {
   "cell_type": "code",
   "execution_count": 82,
   "metadata": {},
   "outputs": [],
   "source": [
    "model.save(docmodelname)"
   ]
  },
  {
   "cell_type": "code",
   "execution_count": 83,
   "metadata": {},
   "outputs": [],
   "source": [
    "model = Doc2Vec.load('kr_doc2vec_noun.model')"
   ]
  },
  {
   "cell_type": "code",
   "execution_count": null,
   "metadata": {},
   "outputs": [],
   "source": []
  }
 ],
 "metadata": {
  "kernelspec": {
   "display_name": "Python 3",
   "language": "python",
   "name": "python3"
  },
  "language_info": {
   "codemirror_mode": {
    "name": "ipython",
    "version": 3
   },
   "file_extension": ".py",
   "mimetype": "text/x-python",
   "name": "python",
   "nbconvert_exporter": "python",
   "pygments_lexer": "ipython3",
   "version": "3.5.4"
  }
 },
 "nbformat": 4,
 "nbformat_minor": 1
}
