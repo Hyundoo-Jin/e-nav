{
 "cells": [
  {
   "cell_type": "code",
   "execution_count": 1,
   "metadata": {},
   "outputs": [],
   "source": [
    "import pandas as pd\n",
    "import numpy as np\n",
    "import os\n",
    "import collections\n",
    "import pickle\n",
    "import datetime\n",
    "import re\n",
    "from tqdm import trange\n",
    "import argparse\n",
    "from sklearn.metrics import classification_report\n",
    "from sklearn.model_selection import KFold"
   ]
  },
  {
   "cell_type": "code",
   "execution_count": 108,
   "metadata": {},
   "outputs": [],
   "source": [
    "from sklearn.preprocessing import LabelEncoder"
   ]
  },
  {
   "cell_type": "code",
   "execution_count": 109,
   "metadata": {},
   "outputs": [],
   "source": [
    "with open('../LSTM/train_kr_all.pkl', 'rb') as f :\n",
    "    train_kr = pickle.load(f)"
   ]
  },
  {
   "cell_type": "code",
   "execution_count": 110,
   "metadata": {},
   "outputs": [],
   "source": [
    "train_kr['temp_code'] = train_kr.Script_num.map(lambda x : '-'.join(x.split('-')[:3]))"
   ]
  },
  {
   "cell_type": "code",
   "execution_count": 111,
   "metadata": {},
   "outputs": [],
   "source": [
    "temp_code = 'UL-MV-01'\n",
    "temp_script = []\n",
    "temp_category = []\n",
    "temp = ''\n",
    "for i, row in train_kr.iterrows() :\n",
    "    if temp_code == row.temp_code :\n",
    "        temp += ' ' + ' '.join(row.Script)\n",
    "    else :\n",
    "        temp_code = row.temp_code\n",
    "        temp_script.append(temp.strip())\n",
    "        temp_category.append(row.Category)\n",
    "        temp = ''"
   ]
  },
  {
   "cell_type": "code",
   "execution_count": 112,
   "metadata": {},
   "outputs": [],
   "source": [
    "temp_category = np.array(temp_category)"
   ]
  },
  {
   "cell_type": "code",
   "execution_count": 5,
   "metadata": {},
   "outputs": [],
   "source": [
    "from sklearn.feature_extraction.text import CountVectorizer"
   ]
  },
  {
   "cell_type": "code",
   "execution_count": 115,
   "metadata": {},
   "outputs": [],
   "source": [
    "count_vectorizer = CountVectorizer(min_df = 10)"
   ]
  },
  {
   "cell_type": "code",
   "execution_count": 116,
   "metadata": {},
   "outputs": [],
   "source": [
    "raw_data = pd.DataFrame(count_vectorizer.fit_transform(temp_script).toarray())"
   ]
  },
  {
   "cell_type": "code",
   "execution_count": 119,
   "metadata": {},
   "outputs": [],
   "source": [
    "from sklearn.naive_bayes import GaussianNB, BernoulliNB, MultinomialNB"
   ]
  },
  {
   "cell_type": "code",
   "execution_count": 120,
   "metadata": {},
   "outputs": [],
   "source": [
    "cv = KFold(n_splits = 5, shuffle = True, random_state = 7)"
   ]
  },
  {
   "cell_type": "code",
   "execution_count": 121,
   "metadata": {},
   "outputs": [],
   "source": [
    "gnb = GaussianNB()"
   ]
  },
  {
   "cell_type": "code",
   "execution_count": 122,
   "metadata": {},
   "outputs": [
    {
     "name": "stdout",
     "output_type": "stream",
     "text": [
      "              precision    recall  f1-score   support\n",
      "\n",
      "          도선       0.39      0.40      0.40        47\n",
      "          선박       0.37      0.43      0.40        53\n",
      "          양묘       0.08      0.69      0.14        16\n",
      "          육상       0.54      0.17      0.25       133\n",
      "          이동       0.16      0.24      0.19        49\n",
      "          입항       0.23      0.31      0.26        54\n",
      "          접안       0.23      0.32      0.27        53\n",
      "          출항       0.58      0.21      0.30        92\n",
      "          통과       0.37      0.11      0.17       100\n",
      "          투묘       0.31      0.25      0.28        40\n",
      "          횡단       0.27      0.52      0.36        23\n",
      "\n",
      "   micro avg       0.26      0.26      0.26       660\n",
      "   macro avg       0.32      0.33      0.27       660\n",
      "weighted avg       0.38      0.26      0.27       660\n",
      "\n",
      "              precision    recall  f1-score   support\n",
      "\n",
      "          도선       0.33      0.43      0.38        35\n",
      "          선박       0.34      0.29      0.31        55\n",
      "          양묘       0.05      0.29      0.09        21\n",
      "          육상       0.33      0.18      0.23       125\n",
      "          이동       0.24      0.33      0.28        57\n",
      "          입항       0.31      0.45      0.37        47\n",
      "          접안       0.23      0.29      0.26        51\n",
      "          출항       0.49      0.19      0.28        98\n",
      "          통과       0.44      0.20      0.28        89\n",
      "          투묘       0.42      0.41      0.42        54\n",
      "          횡단       0.38      0.54      0.45        28\n",
      "\n",
      "   micro avg       0.28      0.28      0.28       660\n",
      "   macro avg       0.32      0.33      0.30       660\n",
      "weighted avg       0.35      0.28      0.29       660\n",
      "\n",
      "              precision    recall  f1-score   support\n",
      "\n",
      "          도선       0.17      0.33      0.23        21\n",
      "          선박       0.32      0.29      0.30        52\n",
      "          양묘       0.13      0.67      0.22        30\n",
      "          육상       0.30      0.13      0.18       132\n",
      "          이동       0.24      0.24      0.24        66\n",
      "          입항       0.19      0.26      0.22        54\n",
      "          접안       0.18      0.26      0.21        47\n",
      "          출항       0.38      0.16      0.22        95\n",
      "          통과       0.37      0.14      0.20        93\n",
      "          투묘       0.27      0.22      0.24        50\n",
      "          횡단       0.30      0.65      0.41        20\n",
      "\n",
      "   micro avg       0.23      0.23      0.23       660\n",
      "   macro avg       0.26      0.30      0.24       660\n",
      "weighted avg       0.28      0.23      0.23       660\n",
      "\n",
      "              precision    recall  f1-score   support\n",
      "\n",
      "          도선       0.33      0.35      0.34        43\n",
      "          선박       0.32      0.33      0.32        55\n",
      "          양묘       0.05      0.43      0.09        14\n",
      "          육상       0.42      0.23      0.30       123\n",
      "          이동       0.24      0.20      0.22        59\n",
      "          입항       0.14      0.31      0.19        45\n",
      "          접안       0.22      0.32      0.26        50\n",
      "          출항       0.52      0.19      0.27        91\n",
      "          통과       0.36      0.15      0.21        96\n",
      "          투묘       0.29      0.21      0.24        58\n",
      "          횡단       0.40      0.62      0.48        26\n",
      "\n",
      "   micro avg       0.25      0.25      0.25       660\n",
      "   macro avg       0.30      0.30      0.27       660\n",
      "weighted avg       0.34      0.25      0.27       660\n",
      "\n",
      "              precision    recall  f1-score   support\n",
      "\n",
      "          도선       0.20      0.27      0.23        30\n",
      "          선박       0.24      0.24      0.24        49\n",
      "          양묘       0.06      0.57      0.11        14\n",
      "          육상       0.50      0.23      0.31       128\n",
      "          이동       0.22      0.28      0.25        64\n",
      "          입항       0.28      0.43      0.34        49\n",
      "          접안       0.19      0.28      0.23        53\n",
      "          출항       0.57      0.29      0.38        97\n",
      "          통과       0.43      0.09      0.15       113\n",
      "          투묘       0.35      0.32      0.33        47\n",
      "          횡단       0.26      0.62      0.37        16\n",
      "\n",
      "   micro avg       0.26      0.26      0.26       660\n",
      "   macro avg       0.30      0.33      0.27       660\n",
      "weighted avg       0.37      0.26      0.27       660\n",
      "\n"
     ]
    }
   ],
   "source": [
    "for train_index, test_index in cv.split(raw_data) :\n",
    "    gnb.fit(raw_data.iloc[train_index], temp_category[train_index])\n",
    "    yhat = gnb.predict(raw_data.iloc[test_index])\n",
    "    print(classification_report(temp_category[test_index], yhat))"
   ]
  },
  {
   "cell_type": "code",
   "execution_count": 123,
   "metadata": {},
   "outputs": [],
   "source": [
    "bnb = BernoulliNB()"
   ]
  },
  {
   "cell_type": "code",
   "execution_count": 124,
   "metadata": {},
   "outputs": [
    {
     "name": "stdout",
     "output_type": "stream",
     "text": [
      "              precision    recall  f1-score   support\n",
      "\n",
      "          도선       0.75      0.77      0.76        47\n",
      "          선박       0.69      0.81      0.75        53\n",
      "          양묘       0.55      0.38      0.44        16\n",
      "          육상       0.76      0.68      0.71       133\n",
      "          이동       0.62      0.71      0.67        49\n",
      "          입항       0.81      0.72      0.76        54\n",
      "          접안       0.65      0.85      0.74        53\n",
      "          출항       0.96      0.80      0.88        92\n",
      "          통과       0.75      0.72      0.73       100\n",
      "          투묘       0.62      0.65      0.63        40\n",
      "          횡단       0.56      0.78      0.65        23\n",
      "\n",
      "   micro avg       0.73      0.73      0.73       660\n",
      "   macro avg       0.70      0.72      0.70       660\n",
      "weighted avg       0.74      0.73      0.73       660\n",
      "\n",
      "              precision    recall  f1-score   support\n",
      "\n",
      "          도선       0.53      0.71      0.61        35\n",
      "          선박       0.62      0.76      0.68        55\n",
      "          양묘       0.58      0.33      0.42        21\n",
      "          육상       0.66      0.63      0.64       125\n",
      "          이동       0.71      0.70      0.71        57\n",
      "          입항       0.67      0.60      0.63        47\n",
      "          접안       0.75      0.90      0.82        51\n",
      "          출항       0.88      0.79      0.83        98\n",
      "          통과       0.76      0.70      0.73        89\n",
      "          투묘       0.77      0.76      0.77        54\n",
      "          횡단       0.68      0.75      0.71        28\n",
      "\n",
      "   micro avg       0.71      0.71      0.71       660\n",
      "   macro avg       0.69      0.69      0.69       660\n",
      "weighted avg       0.71      0.71      0.71       660\n",
      "\n",
      "              precision    recall  f1-score   support\n",
      "\n",
      "          도선       0.37      0.71      0.48        21\n",
      "          선박       0.68      0.65      0.67        52\n",
      "          양묘       0.50      0.23      0.32        30\n",
      "          육상       0.71      0.70      0.70       132\n",
      "          이동       0.65      0.70      0.67        66\n",
      "          입항       0.67      0.69      0.68        54\n",
      "          접안       0.69      0.89      0.78        47\n",
      "          출항       0.84      0.68      0.76        95\n",
      "          통과       0.67      0.69      0.68        93\n",
      "          투묘       0.68      0.68      0.68        50\n",
      "          횡단       0.65      0.55      0.59        20\n",
      "\n",
      "   micro avg       0.68      0.68      0.68       660\n",
      "   macro avg       0.65      0.65      0.64       660\n",
      "weighted avg       0.69      0.68      0.68       660\n",
      "\n",
      "              precision    recall  f1-score   support\n",
      "\n",
      "          도선       0.77      0.79      0.78        43\n",
      "          선박       0.76      0.69      0.72        55\n",
      "          양묘       0.54      0.50      0.52        14\n",
      "          육상       0.64      0.75      0.69       123\n",
      "          이동       0.79      0.78      0.79        59\n",
      "          입항       0.72      0.64      0.68        45\n",
      "          접안       0.69      0.90      0.78        50\n",
      "          출항       0.85      0.70      0.77        91\n",
      "          통과       0.80      0.75      0.77        96\n",
      "          투묘       0.71      0.71      0.71        58\n",
      "          횡단       0.71      0.65      0.68        26\n",
      "\n",
      "   micro avg       0.73      0.73      0.73       660\n",
      "   macro avg       0.73      0.72      0.72       660\n",
      "weighted avg       0.74      0.73      0.74       660\n",
      "\n",
      "              precision    recall  f1-score   support\n",
      "\n",
      "          도선       0.46      0.57      0.51        30\n",
      "          선박       0.79      0.67      0.73        49\n",
      "          양묘       0.71      0.36      0.48        14\n",
      "          육상       0.70      0.77      0.74       128\n",
      "          이동       0.72      0.73      0.73        64\n",
      "          입항       0.78      0.59      0.67        49\n",
      "          접안       0.71      0.85      0.78        53\n",
      "          출항       0.89      0.84      0.86        97\n",
      "          통과       0.75      0.78      0.76       113\n",
      "          투묘       0.70      0.64      0.67        47\n",
      "          횡단       0.69      0.69      0.69        16\n",
      "\n",
      "   micro avg       0.73      0.73      0.73       660\n",
      "   macro avg       0.72      0.68      0.69       660\n",
      "weighted avg       0.74      0.73      0.73       660\n",
      "\n"
     ]
    }
   ],
   "source": [
    "for train_index, test_index in cv.split(raw_data) :\n",
    "    bnb.fit(raw_data.iloc[train_index], temp_category[train_index])\n",
    "    yhat = bnb.predict(raw_data.iloc[test_index])\n",
    "    print(classification_report(temp_category[test_index], yhat))"
   ]
  },
  {
   "cell_type": "code",
   "execution_count": 125,
   "metadata": {},
   "outputs": [],
   "source": [
    "mnb = MultinomialNB()"
   ]
  },
  {
   "cell_type": "code",
   "execution_count": 126,
   "metadata": {},
   "outputs": [
    {
     "name": "stdout",
     "output_type": "stream",
     "text": [
      "              precision    recall  f1-score   support\n",
      "\n",
      "          도선       0.78      0.74      0.76        47\n",
      "          선박       0.83      0.75      0.79        53\n",
      "          양묘       0.73      0.50      0.59        16\n",
      "          육상       0.76      0.69      0.72       133\n",
      "          이동       0.58      0.71      0.64        49\n",
      "          입항       0.82      0.74      0.78        54\n",
      "          접안       0.66      0.81      0.73        53\n",
      "          출항       0.88      0.83      0.85        92\n",
      "          통과       0.72      0.71      0.72       100\n",
      "          투묘       0.61      0.68      0.64        40\n",
      "          횡단       0.52      0.74      0.61        23\n",
      "\n",
      "   micro avg       0.73      0.73      0.73       660\n",
      "   macro avg       0.72      0.72      0.71       660\n",
      "weighted avg       0.74      0.73      0.74       660\n",
      "\n",
      "              precision    recall  f1-score   support\n",
      "\n",
      "          도선       0.56      0.69      0.62        35\n",
      "          선박       0.78      0.64      0.70        55\n",
      "          양묘       0.80      0.38      0.52        21\n",
      "          육상       0.65      0.70      0.67       125\n",
      "          이동       0.65      0.70      0.67        57\n",
      "          입항       0.77      0.72      0.75        47\n",
      "          접안       0.79      0.88      0.83        51\n",
      "          출항       0.83      0.80      0.81        98\n",
      "          통과       0.76      0.73      0.74        89\n",
      "          투묘       0.78      0.78      0.78        54\n",
      "          횡단       0.66      0.75      0.70        28\n",
      "\n",
      "   micro avg       0.73      0.73      0.73       660\n",
      "   macro avg       0.73      0.71      0.71       660\n",
      "weighted avg       0.73      0.73      0.72       660\n",
      "\n",
      "              precision    recall  f1-score   support\n",
      "\n",
      "          도선       0.47      0.67      0.55        21\n",
      "          선박       0.82      0.60      0.69        52\n",
      "          양묘       0.59      0.33      0.43        30\n",
      "          육상       0.66      0.67      0.67       132\n",
      "          이동       0.67      0.71      0.69        66\n",
      "          입항       0.72      0.76      0.74        54\n",
      "          접안       0.66      0.91      0.77        47\n",
      "          출항       0.80      0.69      0.75        95\n",
      "          통과       0.72      0.73      0.73        93\n",
      "          투묘       0.68      0.72      0.70        50\n",
      "          횡단       0.60      0.60      0.60        20\n",
      "\n",
      "   micro avg       0.69      0.69      0.69       660\n",
      "   macro avg       0.67      0.67      0.66       660\n",
      "weighted avg       0.70      0.69      0.69       660\n",
      "\n",
      "              precision    recall  f1-score   support\n",
      "\n",
      "          도선       0.71      0.79      0.75        43\n",
      "          선박       0.77      0.60      0.67        55\n",
      "          양묘       0.46      0.43      0.44        14\n",
      "          육상       0.66      0.71      0.68       123\n",
      "          이동       0.75      0.78      0.77        59\n",
      "          입항       0.73      0.73      0.73        45\n",
      "          접안       0.79      0.92      0.85        50\n",
      "          출항       0.81      0.75      0.78        91\n",
      "          통과       0.77      0.76      0.76        96\n",
      "          투묘       0.76      0.72      0.74        58\n",
      "          횡단       0.73      0.73      0.73        26\n",
      "\n",
      "   micro avg       0.74      0.74      0.74       660\n",
      "   macro avg       0.72      0.72      0.72       660\n",
      "weighted avg       0.74      0.74      0.74       660\n",
      "\n",
      "              precision    recall  f1-score   support\n",
      "\n",
      "          도선       0.59      0.53      0.56        30\n",
      "          선박       0.79      0.67      0.73        49\n",
      "          양묘       0.83      0.36      0.50        14\n",
      "          육상       0.70      0.74      0.72       128\n",
      "          이동       0.66      0.70      0.68        64\n",
      "          입항       0.70      0.67      0.69        49\n",
      "          접안       0.68      0.85      0.76        53\n",
      "          출항       0.87      0.80      0.83        97\n",
      "          통과       0.75      0.76      0.76       113\n",
      "          투묘       0.70      0.66      0.68        47\n",
      "          횡단       0.65      0.81      0.72        16\n",
      "\n",
      "   micro avg       0.73      0.73      0.73       660\n",
      "   macro avg       0.72      0.69      0.69       660\n",
      "weighted avg       0.73      0.73      0.73       660\n",
      "\n"
     ]
    }
   ],
   "source": [
    "for train_index, test_index in cv.split(raw_data) :\n",
    "    mnb.fit(raw_data.iloc[train_index], temp_category[train_index])\n",
    "    yhat = mnb.predict(raw_data.iloc[test_index])\n",
    "    print(classification_report(temp_category[test_index], yhat))"
   ]
  },
  {
   "cell_type": "markdown",
   "metadata": {},
   "source": [
    "### Using tf-idf"
   ]
  },
  {
   "cell_type": "code",
   "execution_count": 127,
   "metadata": {},
   "outputs": [],
   "source": [
    "from sklearn.feature_extraction.text import TfidfVectorizer"
   ]
  },
  {
   "cell_type": "code",
   "execution_count": 132,
   "metadata": {},
   "outputs": [],
   "source": [
    "tf = TfidfVectorizer(vocabulary = count_vectorizer.vocabulary_.keys())"
   ]
  },
  {
   "cell_type": "code",
   "execution_count": 133,
   "metadata": {},
   "outputs": [],
   "source": [
    "raw_data2 = pd.DataFrame(tf.fit_transform(temp_script).toarray())"
   ]
  },
  {
   "cell_type": "code",
   "execution_count": 134,
   "metadata": {},
   "outputs": [],
   "source": [
    "import xgboost"
   ]
  },
  {
   "cell_type": "code",
   "execution_count": 146,
   "metadata": {},
   "outputs": [],
   "source": [
    "xgbc = xgboost.XGBClassifier(max_depth = 4, n_jobs = 12, n_estimators = 500)"
   ]
  },
  {
   "cell_type": "code",
   "execution_count": 147,
   "metadata": {},
   "outputs": [
    {
     "name": "stdout",
     "output_type": "stream",
     "text": [
      "              precision    recall  f1-score   support\n",
      "\n",
      "          도선       0.76      0.66      0.70        47\n",
      "          선박       0.79      0.83      0.81        53\n",
      "          양묘       0.60      0.75      0.67        16\n",
      "          육상       0.73      0.72      0.73       133\n",
      "          이동       0.76      0.71      0.74        49\n",
      "          입항       0.80      0.74      0.77        54\n",
      "          접안       0.85      0.89      0.87        53\n",
      "          출항       0.80      0.85      0.83        92\n",
      "          통과       0.80      0.72      0.76       100\n",
      "          투묘       0.69      0.78      0.73        40\n",
      "          횡단       0.62      0.78      0.69        23\n",
      "\n",
      "   micro avg       0.76      0.76      0.76       660\n",
      "   macro avg       0.75      0.77      0.75       660\n",
      "weighted avg       0.77      0.76      0.76       660\n",
      "\n",
      "              precision    recall  f1-score   support\n",
      "\n",
      "          도선       0.61      0.71      0.66        35\n",
      "          선박       0.83      0.71      0.76        55\n",
      "          양묘       0.75      0.57      0.65        21\n",
      "          육상       0.61      0.72      0.66       125\n",
      "          이동       0.76      0.74      0.75        57\n",
      "          입항       0.77      0.77      0.77        47\n",
      "          접안       0.89      0.92      0.90        51\n",
      "          출항       0.78      0.80      0.79        98\n",
      "          통과       0.79      0.76      0.78        89\n",
      "          투묘       0.82      0.69      0.75        54\n",
      "          횡단       0.78      0.64      0.71        28\n",
      "\n",
      "   micro avg       0.75      0.75      0.75       660\n",
      "   macro avg       0.76      0.73      0.74       660\n",
      "weighted avg       0.75      0.75      0.75       660\n",
      "\n",
      "              precision    recall  f1-score   support\n",
      "\n",
      "          도선       0.63      0.57      0.60        21\n",
      "          선박       0.83      0.75      0.79        52\n",
      "          양묘       0.89      0.53      0.67        30\n",
      "          육상       0.67      0.77      0.72       132\n",
      "          이동       0.72      0.76      0.74        66\n",
      "          입항       0.79      0.81      0.80        54\n",
      "          접안       0.84      0.91      0.88        47\n",
      "          출항       0.81      0.77      0.79        95\n",
      "          통과       0.73      0.72      0.72        93\n",
      "          투묘       0.73      0.72      0.73        50\n",
      "          횡단       0.71      0.60      0.65        20\n",
      "\n",
      "   micro avg       0.75      0.75      0.75       660\n",
      "   macro avg       0.76      0.72      0.73       660\n",
      "weighted avg       0.75      0.75      0.75       660\n",
      "\n",
      "              precision    recall  f1-score   support\n",
      "\n",
      "          도선       0.68      0.79      0.73        43\n",
      "          선박       0.81      0.78      0.80        55\n",
      "          양묘       0.60      0.64      0.62        14\n",
      "          육상       0.64      0.72      0.68       123\n",
      "          이동       0.77      0.78      0.77        59\n",
      "          입항       0.75      0.67      0.71        45\n",
      "          접안       0.84      0.94      0.89        50\n",
      "          출항       0.85      0.74      0.79        91\n",
      "          통과       0.84      0.75      0.79        96\n",
      "          투묘       0.73      0.81      0.77        58\n",
      "          횡단       0.94      0.62      0.74        26\n",
      "\n",
      "   micro avg       0.76      0.76      0.76       660\n",
      "   macro avg       0.77      0.75      0.75       660\n",
      "weighted avg       0.77      0.76      0.76       660\n",
      "\n",
      "              precision    recall  f1-score   support\n",
      "\n",
      "          도선       0.71      0.67      0.69        30\n",
      "          선박       0.82      0.73      0.77        49\n",
      "          양묘       0.73      0.57      0.64        14\n",
      "          육상       0.63      0.79      0.70       128\n",
      "          이동       0.79      0.77      0.78        64\n",
      "          입항       0.81      0.71      0.76        49\n",
      "          접안       0.96      0.81      0.88        53\n",
      "          출항       0.84      0.78      0.81        97\n",
      "          통과       0.72      0.78      0.75       113\n",
      "          투묘       0.83      0.72      0.77        47\n",
      "          횡단       0.69      0.56      0.62        16\n",
      "\n",
      "   micro avg       0.76      0.76      0.76       660\n",
      "   macro avg       0.78      0.72      0.74       660\n",
      "weighted avg       0.77      0.76      0.76       660\n",
      "\n"
     ]
    }
   ],
   "source": [
    "for train_index, test_index in cv.split(raw_data) :\n",
    "    xgbc.fit(raw_data.iloc[train_index], temp_category[train_index])\n",
    "    yhat = xgbc.predict(raw_data.iloc[test_index])\n",
    "    print(classification_report(temp_category[test_index], yhat))"
   ]
  },
  {
   "cell_type": "code",
   "execution_count": 148,
   "metadata": {},
   "outputs": [],
   "source": [
    "xgbc2 = xgboost.XGBClassifier(max_depth = 4, n_jobs = 12, n_estimators = 500)"
   ]
  },
  {
   "cell_type": "code",
   "execution_count": 149,
   "metadata": {},
   "outputs": [
    {
     "name": "stdout",
     "output_type": "stream",
     "text": [
      "              precision    recall  f1-score   support\n",
      "\n",
      "          도선       0.78      0.66      0.71        47\n",
      "          선박       0.73      0.83      0.78        53\n",
      "          양묘       0.56      0.62      0.59        16\n",
      "          육상       0.69      0.74      0.71       133\n",
      "          이동       0.71      0.71      0.71        49\n",
      "          입항       0.88      0.78      0.82        54\n",
      "          접안       0.90      0.85      0.87        53\n",
      "          출항       0.82      0.82      0.82        92\n",
      "          통과       0.73      0.68      0.70       100\n",
      "          투묘       0.69      0.72      0.71        40\n",
      "          횡단       0.62      0.70      0.65        23\n",
      "\n",
      "   micro avg       0.75      0.75      0.75       660\n",
      "   macro avg       0.74      0.74      0.73       660\n",
      "weighted avg       0.75      0.75      0.75       660\n",
      "\n",
      "              precision    recall  f1-score   support\n",
      "\n",
      "          도선       0.70      0.74      0.72        35\n",
      "          선박       0.82      0.76      0.79        55\n",
      "          양묘       0.67      0.57      0.62        21\n",
      "          육상       0.58      0.68      0.63       125\n",
      "          이동       0.68      0.70      0.69        57\n",
      "          입항       0.74      0.72      0.73        47\n",
      "          접안       0.90      0.90      0.90        51\n",
      "          출항       0.78      0.79      0.78        98\n",
      "          통과       0.74      0.72      0.73        89\n",
      "          투묘       0.82      0.67      0.73        54\n",
      "          횡단       0.65      0.54      0.59        28\n",
      "\n",
      "   micro avg       0.72      0.72      0.72       660\n",
      "   macro avg       0.74      0.71      0.72       660\n",
      "weighted avg       0.73      0.72      0.72       660\n",
      "\n",
      "              precision    recall  f1-score   support\n",
      "\n",
      "          도선       0.58      0.71      0.64        21\n",
      "          선박       0.88      0.69      0.77        52\n",
      "          양묘       0.89      0.57      0.69        30\n",
      "          육상       0.63      0.78      0.70       132\n",
      "          이동       0.70      0.71      0.71        66\n",
      "          입항       0.82      0.76      0.79        54\n",
      "          접안       0.85      0.87      0.86        47\n",
      "          출항       0.76      0.73      0.74        95\n",
      "          통과       0.72      0.71      0.71        93\n",
      "          투묘       0.71      0.68      0.69        50\n",
      "          횡단       0.73      0.55      0.63        20\n",
      "\n",
      "   micro avg       0.73      0.73      0.73       660\n",
      "   macro avg       0.75      0.71      0.72       660\n",
      "weighted avg       0.74      0.73      0.73       660\n",
      "\n",
      "              precision    recall  f1-score   support\n",
      "\n",
      "          도선       0.69      0.72      0.70        43\n",
      "          선박       0.85      0.73      0.78        55\n",
      "          양묘       0.36      0.29      0.32        14\n",
      "          육상       0.58      0.79      0.67       123\n",
      "          이동       0.73      0.78      0.75        59\n",
      "          입항       0.76      0.64      0.70        45\n",
      "          접안       0.85      0.88      0.86        50\n",
      "          출항       0.84      0.71      0.77        91\n",
      "          통과       0.80      0.75      0.77        96\n",
      "          투묘       0.72      0.67      0.70        58\n",
      "          횡단       0.82      0.54      0.65        26\n",
      "\n",
      "   micro avg       0.73      0.73      0.73       660\n",
      "   macro avg       0.73      0.68      0.70       660\n",
      "weighted avg       0.74      0.73      0.73       660\n",
      "\n",
      "              precision    recall  f1-score   support\n",
      "\n",
      "          도선       0.78      0.60      0.68        30\n",
      "          선박       0.72      0.69      0.71        49\n",
      "          양묘       0.58      0.50      0.54        14\n",
      "          육상       0.61      0.77      0.68       128\n",
      "          이동       0.79      0.70      0.74        64\n",
      "          입항       0.79      0.69      0.74        49\n",
      "          접안       0.91      0.81      0.86        53\n",
      "          출항       0.76      0.78      0.77        97\n",
      "          통과       0.75      0.78      0.76       113\n",
      "          투묘       0.87      0.70      0.78        47\n",
      "          횡단       0.67      0.50      0.57        16\n",
      "\n",
      "   micro avg       0.73      0.73      0.73       660\n",
      "   macro avg       0.75      0.69      0.71       660\n",
      "weighted avg       0.75      0.73      0.74       660\n",
      "\n"
     ]
    }
   ],
   "source": [
    "for train_index, test_index in cv.split(raw_data2) :\n",
    "    xgbc2.fit(raw_data2.iloc[train_index], temp_category[train_index])\n",
    "    yhat = xgbc2.predict(raw_data2.iloc[test_index])\n",
    "    print(classification_report(temp_category[test_index], yhat))"
   ]
  },
  {
   "cell_type": "code",
   "execution_count": 10,
   "metadata": {},
   "outputs": [],
   "source": [
    "from sklearn.ensemble import RandomForestClassifier"
   ]
  },
  {
   "cell_type": "code",
   "execution_count": 150,
   "metadata": {},
   "outputs": [],
   "source": [
    "rfc = RandomForestClassifier(max_depth = 15, n_jobs = 12, n_estimators = 1000)"
   ]
  },
  {
   "cell_type": "code",
   "execution_count": 151,
   "metadata": {},
   "outputs": [
    {
     "name": "stdout",
     "output_type": "stream",
     "text": [
      "              precision    recall  f1-score   support\n",
      "\n",
      "          도선       0.77      0.57      0.66        47\n",
      "          선박       0.94      0.55      0.69        53\n",
      "          양묘       0.71      0.31      0.43        16\n",
      "          육상       0.59      0.87      0.70       133\n",
      "          이동       0.80      0.71      0.75        49\n",
      "          입항       0.88      0.70      0.78        54\n",
      "          접안       0.85      0.85      0.85        53\n",
      "          출항       0.81      0.85      0.83        92\n",
      "          통과       0.75      0.76      0.75       100\n",
      "          투묘       0.80      0.60      0.69        40\n",
      "          횡단       0.76      0.70      0.73        23\n",
      "\n",
      "   micro avg       0.74      0.74      0.74       660\n",
      "   macro avg       0.79      0.68      0.72       660\n",
      "weighted avg       0.77      0.74      0.74       660\n",
      "\n",
      "              precision    recall  f1-score   support\n",
      "\n",
      "          도선       0.72      0.60      0.66        35\n",
      "          선박       0.85      0.40      0.54        55\n",
      "          양묘       0.62      0.24      0.34        21\n",
      "          육상       0.46      0.81      0.59       125\n",
      "          이동       0.67      0.61      0.64        57\n",
      "          입항       0.84      0.77      0.80        47\n",
      "          접안       0.90      0.88      0.89        51\n",
      "          출항       0.76      0.76      0.76        98\n",
      "          통과       0.77      0.75      0.76        89\n",
      "          투묘       0.87      0.48      0.62        54\n",
      "          횡단       0.88      0.54      0.67        28\n",
      "\n",
      "   micro avg       0.68      0.68      0.68       660\n",
      "   macro avg       0.76      0.62      0.66       660\n",
      "weighted avg       0.73      0.68      0.68       660\n",
      "\n",
      "              precision    recall  f1-score   support\n",
      "\n",
      "          도선       0.53      0.43      0.47        21\n",
      "          선박       0.91      0.38      0.54        52\n",
      "          양묘       0.78      0.23      0.36        30\n",
      "          육상       0.50      0.83      0.63       132\n",
      "          이동       0.66      0.58      0.61        66\n",
      "          입항       0.83      0.70      0.76        54\n",
      "          접안       0.87      0.85      0.86        47\n",
      "          출항       0.70      0.69      0.70        95\n",
      "          통과       0.67      0.75      0.71        93\n",
      "          투묘       0.82      0.56      0.67        50\n",
      "          횡단       0.69      0.45      0.55        20\n",
      "\n",
      "   micro avg       0.66      0.66      0.66       660\n",
      "   macro avg       0.72      0.59      0.62       660\n",
      "weighted avg       0.70      0.66      0.65       660\n",
      "\n",
      "              precision    recall  f1-score   support\n",
      "\n",
      "          도선       0.78      0.58      0.67        43\n",
      "          선박       1.00      0.36      0.53        55\n",
      "          양묘       0.75      0.21      0.33        14\n",
      "          육상       0.48      0.89      0.62       123\n",
      "          이동       0.77      0.73      0.75        59\n",
      "          입항       0.80      0.53      0.64        45\n",
      "          접안       0.96      0.92      0.94        50\n",
      "          출항       0.77      0.71      0.74        91\n",
      "          통과       0.75      0.79      0.77        96\n",
      "          투묘       0.78      0.60      0.68        58\n",
      "          횡단       1.00      0.42      0.59        26\n",
      "\n",
      "   micro avg       0.69      0.69      0.69       660\n",
      "   macro avg       0.80      0.62      0.66       660\n",
      "weighted avg       0.76      0.69      0.69       660\n",
      "\n",
      "              precision    recall  f1-score   support\n",
      "\n",
      "          도선       0.75      0.40      0.52        30\n",
      "          선박       0.87      0.55      0.67        49\n",
      "          양묘       0.80      0.29      0.42        14\n",
      "          육상       0.54      0.91      0.67       128\n",
      "          이동       0.81      0.72      0.76        64\n",
      "          입항       0.90      0.55      0.68        49\n",
      "          접안       0.91      0.79      0.85        53\n",
      "          출항       0.81      0.75      0.78        97\n",
      "          통과       0.72      0.81      0.77       113\n",
      "          투묘       0.84      0.57      0.68        47\n",
      "          횡단       0.80      0.50      0.62        16\n",
      "\n",
      "   micro avg       0.72      0.72      0.72       660\n",
      "   macro avg       0.80      0.62      0.68       660\n",
      "weighted avg       0.76      0.72      0.72       660\n",
      "\n"
     ]
    }
   ],
   "source": [
    "for train_index, test_index in cv.split(raw_data2) :\n",
    "    rfc.fit(raw_data2.iloc[train_index], temp_category[train_index])\n",
    "    yhat = rfc.predict(raw_data2.iloc[test_index])\n",
    "    print(classification_report(temp_category[test_index], yhat))"
   ]
  },
  {
   "cell_type": "code",
   "execution_count": 156,
   "metadata": {},
   "outputs": [],
   "source": [
    "rfc2 = RandomForestClassifier(max_depth = None, n_jobs = 12, n_estimators = 1000)"
   ]
  },
  {
   "cell_type": "code",
   "execution_count": 157,
   "metadata": {},
   "outputs": [
    {
     "name": "stdout",
     "output_type": "stream",
     "text": [
      "              precision    recall  f1-score   support\n",
      "\n",
      "          도선       0.78      0.68      0.73        47\n",
      "          선박       0.76      0.72      0.74        53\n",
      "          양묘       0.62      0.50      0.55        16\n",
      "          육상       0.71      0.76      0.73       133\n",
      "          이동       0.73      0.78      0.75        49\n",
      "          입항       0.89      0.74      0.81        54\n",
      "          접안       0.82      0.89      0.85        53\n",
      "          출항       0.83      0.87      0.85        92\n",
      "          통과       0.75      0.77      0.76       100\n",
      "          투묘       0.69      0.62      0.66        40\n",
      "          횡단       0.71      0.74      0.72        23\n",
      "\n",
      "   micro avg       0.76      0.76      0.76       660\n",
      "   macro avg       0.75      0.73      0.74       660\n",
      "weighted avg       0.76      0.76      0.76       660\n",
      "\n",
      "              precision    recall  f1-score   support\n",
      "\n",
      "          도선       0.67      0.69      0.68        35\n",
      "          선박       0.76      0.58      0.66        55\n",
      "          양묘       0.65      0.52      0.58        21\n",
      "          육상       0.59      0.74      0.65       125\n",
      "          이동       0.69      0.70      0.70        57\n",
      "          입항       0.77      0.79      0.78        47\n",
      "          접안       0.91      0.94      0.92        51\n",
      "          출항       0.73      0.78      0.75        98\n",
      "          통과       0.77      0.74      0.75        89\n",
      "          투묘       0.84      0.57      0.68        54\n",
      "          횡단       0.70      0.57      0.63        28\n",
      "\n",
      "   micro avg       0.72      0.72      0.72       660\n",
      "   macro avg       0.73      0.69      0.71       660\n",
      "weighted avg       0.73      0.72      0.72       660\n",
      "\n",
      "              precision    recall  f1-score   support\n",
      "\n",
      "          도선       0.52      0.62      0.57        21\n",
      "          선박       0.80      0.67      0.73        52\n",
      "          양묘       0.80      0.40      0.53        30\n",
      "          육상       0.67      0.81      0.73       132\n",
      "          이동       0.66      0.70      0.68        66\n",
      "          입항       0.81      0.78      0.79        54\n",
      "          접안       0.86      0.89      0.88        47\n",
      "          출항       0.74      0.72      0.73        95\n",
      "          통과       0.70      0.77      0.73        93\n",
      "          투묘       0.76      0.56      0.64        50\n",
      "          횡단       0.77      0.50      0.61        20\n",
      "\n",
      "   micro avg       0.72      0.72      0.72       660\n",
      "   macro avg       0.73      0.67      0.69       660\n",
      "weighted avg       0.73      0.72      0.72       660\n",
      "\n",
      "              precision    recall  f1-score   support\n",
      "\n",
      "          도선       0.75      0.63      0.68        43\n",
      "          선박       0.92      0.65      0.77        55\n",
      "          양묘       0.71      0.36      0.48        14\n",
      "          육상       0.60      0.82      0.70       123\n",
      "          이동       0.72      0.78      0.75        59\n",
      "          입항       0.79      0.69      0.74        45\n",
      "          접안       0.85      0.94      0.90        50\n",
      "          출항       0.80      0.78      0.79        91\n",
      "          통과       0.84      0.81      0.83        96\n",
      "          투묘       0.79      0.72      0.76        58\n",
      "          횡단       0.89      0.62      0.73        26\n",
      "\n",
      "   micro avg       0.76      0.76      0.76       660\n",
      "   macro avg       0.79      0.71      0.74       660\n",
      "weighted avg       0.77      0.76      0.76       660\n",
      "\n",
      "              precision    recall  f1-score   support\n",
      "\n",
      "          도선       0.83      0.63      0.72        30\n",
      "          선박       0.86      0.76      0.80        49\n",
      "          양묘       0.62      0.36      0.45        14\n",
      "          육상       0.65      0.88      0.75       128\n",
      "          이동       0.79      0.81      0.80        64\n",
      "          입항       0.79      0.67      0.73        49\n",
      "          접안       0.93      0.81      0.87        53\n",
      "          출항       0.85      0.79      0.82        97\n",
      "          통과       0.73      0.82      0.77       113\n",
      "          투묘       0.87      0.55      0.68        47\n",
      "          횡단       0.80      0.50      0.62        16\n",
      "\n",
      "   micro avg       0.77      0.77      0.77       660\n",
      "   macro avg       0.79      0.69      0.73       660\n",
      "weighted avg       0.78      0.77      0.76       660\n",
      "\n"
     ]
    }
   ],
   "source": [
    "for train_index, test_index in cv.split(raw_data) :\n",
    "    rfc2.fit(raw_data.iloc[train_index], temp_category[train_index])\n",
    "    yhat = rfc2.predict(raw_data.iloc[test_index])\n",
    "    print(classification_report(temp_category[test_index], yhat))"
   ]
  },
  {
   "cell_type": "code",
   "execution_count": 158,
   "metadata": {},
   "outputs": [],
   "source": [
    "from sklearn.linear_model import LogisticRegression"
   ]
  },
  {
   "cell_type": "code",
   "execution_count": 159,
   "metadata": {},
   "outputs": [],
   "source": [
    "lrc = LogisticRegression(C = 0.8, max_iter = 500, n_jobs = 12, solver = 'sag')"
   ]
  },
  {
   "cell_type": "code",
   "execution_count": 160,
   "metadata": {},
   "outputs": [
    {
     "name": "stderr",
     "output_type": "stream",
     "text": [
      "/home/jin/miniconda3/lib/python3.6/site-packages/sklearn/linear_model/logistic.py:459: FutureWarning: Default multi_class will be changed to 'auto' in 0.22. Specify the multi_class option to silence this warning.\n",
      "  \"this warning.\", FutureWarning)\n"
     ]
    },
    {
     "name": "stdout",
     "output_type": "stream",
     "text": [
      "              precision    recall  f1-score   support\n",
      "\n",
      "          도선       0.79      0.66      0.72        47\n",
      "          선박       0.90      0.72      0.80        53\n",
      "          양묘       0.75      0.56      0.64        16\n",
      "          육상       0.65      0.83      0.73       133\n",
      "          이동       0.73      0.67      0.70        49\n",
      "          입항       0.87      0.76      0.81        54\n",
      "          접안       0.91      0.81      0.86        53\n",
      "          출항       0.80      0.83      0.81        92\n",
      "          통과       0.72      0.75      0.74       100\n",
      "          투묘       0.64      0.62      0.63        40\n",
      "          횡단       0.74      0.61      0.67        23\n",
      "\n",
      "   micro avg       0.75      0.75      0.75       660\n",
      "   macro avg       0.77      0.71      0.74       660\n",
      "weighted avg       0.76      0.75      0.75       660\n",
      "\n"
     ]
    },
    {
     "name": "stderr",
     "output_type": "stream",
     "text": [
      "/home/jin/miniconda3/lib/python3.6/site-packages/sklearn/linear_model/logistic.py:459: FutureWarning: Default multi_class will be changed to 'auto' in 0.22. Specify the multi_class option to silence this warning.\n",
      "  \"this warning.\", FutureWarning)\n"
     ]
    },
    {
     "name": "stdout",
     "output_type": "stream",
     "text": [
      "              precision    recall  f1-score   support\n",
      "\n",
      "          도선       0.75      0.60      0.67        35\n",
      "          선박       0.81      0.62      0.70        55\n",
      "          양묘       0.67      0.38      0.48        21\n",
      "          육상       0.54      0.80      0.65       125\n",
      "          이동       0.67      0.67      0.67        57\n",
      "          입항       0.81      0.74      0.78        47\n",
      "          접안       0.98      0.88      0.93        51\n",
      "          출항       0.75      0.84      0.79        98\n",
      "          통과       0.80      0.74      0.77        89\n",
      "          투묘       0.81      0.63      0.71        54\n",
      "          횡단       0.93      0.46      0.62        28\n",
      "\n",
      "   micro avg       0.72      0.72      0.72       660\n",
      "   macro avg       0.77      0.67      0.71       660\n",
      "weighted avg       0.75      0.72      0.72       660\n",
      "\n"
     ]
    },
    {
     "name": "stderr",
     "output_type": "stream",
     "text": [
      "/home/jin/miniconda3/lib/python3.6/site-packages/sklearn/linear_model/logistic.py:459: FutureWarning: Default multi_class will be changed to 'auto' in 0.22. Specify the multi_class option to silence this warning.\n",
      "  \"this warning.\", FutureWarning)\n"
     ]
    },
    {
     "name": "stdout",
     "output_type": "stream",
     "text": [
      "              precision    recall  f1-score   support\n",
      "\n",
      "          도선       0.53      0.48      0.50        21\n",
      "          선박       0.79      0.50      0.61        52\n",
      "          양묘       0.79      0.50      0.61        30\n",
      "          육상       0.59      0.83      0.69       132\n",
      "          이동       0.78      0.68      0.73        66\n",
      "          입항       0.81      0.70      0.75        54\n",
      "          접안       0.89      0.83      0.86        47\n",
      "          출항       0.74      0.75      0.74        95\n",
      "          통과       0.70      0.75      0.73        93\n",
      "          투묘       0.76      0.70      0.73        50\n",
      "          횡단       0.83      0.50      0.62        20\n",
      "\n",
      "   micro avg       0.71      0.71      0.71       660\n",
      "   macro avg       0.75      0.66      0.69       660\n",
      "weighted avg       0.73      0.71      0.71       660\n",
      "\n"
     ]
    },
    {
     "name": "stderr",
     "output_type": "stream",
     "text": [
      "/home/jin/miniconda3/lib/python3.6/site-packages/sklearn/linear_model/logistic.py:459: FutureWarning: Default multi_class will be changed to 'auto' in 0.22. Specify the multi_class option to silence this warning.\n",
      "  \"this warning.\", FutureWarning)\n"
     ]
    },
    {
     "name": "stdout",
     "output_type": "stream",
     "text": [
      "              precision    recall  f1-score   support\n",
      "\n",
      "          도선       0.88      0.70      0.78        43\n",
      "          선박       0.82      0.56      0.67        55\n",
      "          양묘       0.60      0.21      0.32        14\n",
      "          육상       0.53      0.85      0.65       123\n",
      "          이동       0.82      0.83      0.82        59\n",
      "          입항       0.82      0.62      0.71        45\n",
      "          접안       0.95      0.84      0.89        50\n",
      "          출항       0.81      0.79      0.80        91\n",
      "          통과       0.79      0.77      0.78        96\n",
      "          투묘       0.78      0.67      0.72        58\n",
      "          횡단       0.88      0.54      0.67        26\n",
      "\n",
      "   micro avg       0.74      0.74      0.74       660\n",
      "   macro avg       0.79      0.67      0.71       660\n",
      "weighted avg       0.77      0.74      0.74       660\n",
      "\n"
     ]
    },
    {
     "name": "stderr",
     "output_type": "stream",
     "text": [
      "/home/jin/miniconda3/lib/python3.6/site-packages/sklearn/linear_model/logistic.py:459: FutureWarning: Default multi_class will be changed to 'auto' in 0.22. Specify the multi_class option to silence this warning.\n",
      "  \"this warning.\", FutureWarning)\n"
     ]
    },
    {
     "name": "stdout",
     "output_type": "stream",
     "text": [
      "              precision    recall  f1-score   support\n",
      "\n",
      "          도선       0.76      0.53      0.63        30\n",
      "          선박       0.76      0.59      0.67        49\n",
      "          양묘       0.89      0.57      0.70        14\n",
      "          육상       0.60      0.86      0.71       128\n",
      "          이동       0.81      0.73      0.77        64\n",
      "          입항       0.84      0.65      0.74        49\n",
      "          접안       0.93      0.75      0.83        53\n",
      "          출항       0.87      0.81      0.84        97\n",
      "          통과       0.74      0.85      0.79       113\n",
      "          투묘       0.82      0.70      0.76        47\n",
      "          횡단       1.00      0.56      0.72        16\n",
      "\n",
      "   micro avg       0.76      0.76      0.76       660\n",
      "   macro avg       0.82      0.69      0.74       660\n",
      "weighted avg       0.78      0.76      0.76       660\n",
      "\n"
     ]
    }
   ],
   "source": [
    "for train_index, test_index in cv.split(raw_data2) :\n",
    "    lrc.fit(raw_data2.iloc[train_index], temp_category[train_index])\n",
    "    yhat = lrc.predict(raw_data2.iloc[test_index])\n",
    "    print(classification_report(temp_category[test_index], yhat))"
   ]
  },
  {
   "cell_type": "code",
   "execution_count": 161,
   "metadata": {},
   "outputs": [],
   "source": [
    "lrc2 = LogisticRegression(C = 0.8, max_iter = 500, n_jobs = 12, solver = 'sag')"
   ]
  },
  {
   "cell_type": "code",
   "execution_count": 163,
   "metadata": {},
   "outputs": [
    {
     "name": "stderr",
     "output_type": "stream",
     "text": [
      "/home/jin/miniconda3/lib/python3.6/site-packages/sklearn/linear_model/logistic.py:459: FutureWarning: Default multi_class will be changed to 'auto' in 0.22. Specify the multi_class option to silence this warning.\n",
      "  \"this warning.\", FutureWarning)\n"
     ]
    },
    {
     "name": "stdout",
     "output_type": "stream",
     "text": [
      "              precision    recall  f1-score   support\n",
      "\n",
      "          도선       0.77      0.64      0.70        47\n",
      "          선박       0.76      0.85      0.80        53\n",
      "          양묘       0.65      0.69      0.67        16\n",
      "          육상       0.68      0.69      0.69       133\n",
      "          이동       0.73      0.67      0.70        49\n",
      "          입항       0.84      0.78      0.81        54\n",
      "          접안       0.86      0.83      0.85        53\n",
      "          출항       0.83      0.83      0.83        92\n",
      "          통과       0.69      0.74      0.71       100\n",
      "          투묘       0.64      0.68      0.66        40\n",
      "          횡단       0.65      0.65      0.65        23\n",
      "\n",
      "   micro avg       0.74      0.74      0.74       660\n",
      "   macro avg       0.74      0.73      0.73       660\n",
      "weighted avg       0.74      0.74      0.74       660\n",
      "\n"
     ]
    },
    {
     "name": "stderr",
     "output_type": "stream",
     "text": [
      "/home/jin/miniconda3/lib/python3.6/site-packages/sklearn/linear_model/logistic.py:459: FutureWarning: Default multi_class will be changed to 'auto' in 0.22. Specify the multi_class option to silence this warning.\n",
      "  \"this warning.\", FutureWarning)\n"
     ]
    },
    {
     "name": "stdout",
     "output_type": "stream",
     "text": [
      "              precision    recall  f1-score   support\n",
      "\n",
      "          도선       0.69      0.69      0.69        35\n",
      "          선박       0.79      0.67      0.73        55\n",
      "          양묘       0.75      0.57      0.65        21\n",
      "          육상       0.55      0.70      0.62       125\n",
      "          이동       0.69      0.67      0.68        57\n",
      "          입항       0.72      0.77      0.74        47\n",
      "          접안       0.90      0.88      0.89        51\n",
      "          출항       0.81      0.82      0.81        98\n",
      "          통과       0.77      0.74      0.75        89\n",
      "          투묘       0.83      0.65      0.73        54\n",
      "          횡단       0.71      0.54      0.61        28\n",
      "\n",
      "   micro avg       0.72      0.72      0.72       660\n",
      "   macro avg       0.75      0.70      0.72       660\n",
      "weighted avg       0.73      0.72      0.72       660\n",
      "\n"
     ]
    },
    {
     "name": "stderr",
     "output_type": "stream",
     "text": [
      "/home/jin/miniconda3/lib/python3.6/site-packages/sklearn/linear_model/logistic.py:459: FutureWarning: Default multi_class will be changed to 'auto' in 0.22. Specify the multi_class option to silence this warning.\n",
      "  \"this warning.\", FutureWarning)\n"
     ]
    },
    {
     "name": "stdout",
     "output_type": "stream",
     "text": [
      "              precision    recall  f1-score   support\n",
      "\n",
      "          도선       0.56      0.48      0.51        21\n",
      "          선박       0.83      0.73      0.78        52\n",
      "          양묘       0.78      0.60      0.68        30\n",
      "          육상       0.63      0.73      0.68       132\n",
      "          이동       0.77      0.67      0.72        66\n",
      "          입항       0.78      0.74      0.76        54\n",
      "          접안       0.88      0.89      0.88        47\n",
      "          출항       0.73      0.78      0.76        95\n",
      "          통과       0.67      0.69      0.68        93\n",
      "          투묘       0.71      0.72      0.71        50\n",
      "          횡단       0.71      0.50      0.59        20\n",
      "\n",
      "   micro avg       0.72      0.72      0.72       660\n",
      "   macro avg       0.73      0.68      0.70       660\n",
      "weighted avg       0.72      0.72      0.72       660\n",
      "\n"
     ]
    },
    {
     "name": "stderr",
     "output_type": "stream",
     "text": [
      "/home/jin/miniconda3/lib/python3.6/site-packages/sklearn/linear_model/logistic.py:459: FutureWarning: Default multi_class will be changed to 'auto' in 0.22. Specify the multi_class option to silence this warning.\n",
      "  \"this warning.\", FutureWarning)\n"
     ]
    },
    {
     "name": "stdout",
     "output_type": "stream",
     "text": [
      "              precision    recall  f1-score   support\n",
      "\n",
      "          도선       0.78      0.74      0.76        43\n",
      "          선박       0.78      0.78      0.78        55\n",
      "          양묘       0.45      0.36      0.40        14\n",
      "          육상       0.60      0.76      0.67       123\n",
      "          이동       0.78      0.80      0.79        59\n",
      "          입항       0.71      0.67      0.69        45\n",
      "          접안       0.93      0.84      0.88        50\n",
      "          출항       0.80      0.77      0.79        91\n",
      "          통과       0.78      0.75      0.77        96\n",
      "          투묘       0.75      0.69      0.72        58\n",
      "          횡단       0.83      0.58      0.68        26\n",
      "\n",
      "   micro avg       0.74      0.74      0.74       660\n",
      "   macro avg       0.75      0.70      0.72       660\n",
      "weighted avg       0.75      0.74      0.74       660\n",
      "\n"
     ]
    },
    {
     "name": "stderr",
     "output_type": "stream",
     "text": [
      "/home/jin/miniconda3/lib/python3.6/site-packages/sklearn/linear_model/logistic.py:459: FutureWarning: Default multi_class will be changed to 'auto' in 0.22. Specify the multi_class option to silence this warning.\n",
      "  \"this warning.\", FutureWarning)\n"
     ]
    },
    {
     "name": "stdout",
     "output_type": "stream",
     "text": [
      "              precision    recall  f1-score   support\n",
      "\n",
      "          도선       0.72      0.60      0.65        30\n",
      "          선박       0.79      0.69      0.74        49\n",
      "          양묘       0.75      0.64      0.69        14\n",
      "          육상       0.63      0.77      0.69       128\n",
      "          이동       0.84      0.73      0.78        64\n",
      "          입항       0.74      0.69      0.72        49\n",
      "          접안       0.88      0.79      0.83        53\n",
      "          출항       0.86      0.85      0.85        97\n",
      "          통과       0.72      0.81      0.77       113\n",
      "          투묘       0.82      0.70      0.76        47\n",
      "          횡단       0.82      0.56      0.67        16\n",
      "\n",
      "   micro avg       0.76      0.76      0.76       660\n",
      "   macro avg       0.78      0.71      0.74       660\n",
      "weighted avg       0.77      0.76      0.76       660\n",
      "\n"
     ]
    }
   ],
   "source": [
    "for train_index, test_index in cv.split(raw_data) :\n",
    "    lrc2.fit(raw_data.iloc[train_index], temp_category[train_index])\n",
    "    yhat = lrc2.predict(raw_data.iloc[test_index])\n",
    "    print(classification_report(temp_category[test_index], yhat))"
   ]
  },
  {
   "cell_type": "code",
   "execution_count": 164,
   "metadata": {},
   "outputs": [],
   "source": [
    "import lightgbm"
   ]
  },
  {
   "cell_type": "code",
   "execution_count": 171,
   "metadata": {},
   "outputs": [],
   "source": [
    "lgbmc = lightgbm.LGBMClassifier(n_jobs = 12, n_estimators = 500, max_depth = -1)"
   ]
  },
  {
   "cell_type": "code",
   "execution_count": 172,
   "metadata": {},
   "outputs": [
    {
     "name": "stdout",
     "output_type": "stream",
     "text": [
      "              precision    recall  f1-score   support\n",
      "\n",
      "          도선       0.80      0.60      0.68        47\n",
      "          선박       0.70      0.75      0.73        53\n",
      "          양묘       0.56      0.62      0.59        16\n",
      "          육상       0.67      0.71      0.69       133\n",
      "          이동       0.70      0.65      0.67        49\n",
      "          입항       0.84      0.76      0.80        54\n",
      "          접안       0.87      0.85      0.86        53\n",
      "          출항       0.78      0.85      0.81        92\n",
      "          통과       0.74      0.67      0.70       100\n",
      "          투묘       0.60      0.70      0.64        40\n",
      "          횡단       0.52      0.57      0.54        23\n",
      "\n",
      "   micro avg       0.72      0.72      0.72       660\n",
      "   macro avg       0.71      0.70      0.70       660\n",
      "weighted avg       0.73      0.72      0.72       660\n",
      "\n",
      "              precision    recall  f1-score   support\n",
      "\n",
      "          도선       0.64      0.71      0.68        35\n",
      "          선박       0.80      0.75      0.77        55\n",
      "          양묘       0.57      0.38      0.46        21\n",
      "          육상       0.61      0.76      0.67       125\n",
      "          이동       0.66      0.65      0.65        57\n",
      "          입항       0.74      0.68      0.71        47\n",
      "          접안       0.92      0.92      0.92        51\n",
      "          출항       0.78      0.79      0.78        98\n",
      "          통과       0.76      0.73      0.75        89\n",
      "          투묘       0.77      0.63      0.69        54\n",
      "          횡단       0.71      0.54      0.61        28\n",
      "\n",
      "   micro avg       0.72      0.72      0.72       660\n",
      "   macro avg       0.73      0.68      0.70       660\n",
      "weighted avg       0.73      0.72      0.72       660\n",
      "\n",
      "              precision    recall  f1-score   support\n",
      "\n",
      "          도선       0.42      0.48      0.44        21\n",
      "          선박       0.80      0.69      0.74        52\n",
      "          양묘       0.83      0.50      0.62        30\n",
      "          육상       0.64      0.80      0.71       132\n",
      "          이동       0.67      0.65      0.66        66\n",
      "          입항       0.76      0.76      0.76        54\n",
      "          접안       0.87      0.85      0.86        47\n",
      "          출항       0.77      0.74      0.75        95\n",
      "          통과       0.71      0.73      0.72        93\n",
      "          투묘       0.71      0.68      0.69        50\n",
      "          횡단       0.73      0.40      0.52        20\n",
      "\n",
      "   micro avg       0.71      0.71      0.71       660\n",
      "   macro avg       0.72      0.66      0.68       660\n",
      "weighted avg       0.72      0.71      0.71       660\n",
      "\n",
      "              precision    recall  f1-score   support\n",
      "\n",
      "          도선       0.69      0.67      0.68        43\n",
      "          선박       0.77      0.67      0.72        55\n",
      "          양묘       0.50      0.36      0.42        14\n",
      "          육상       0.59      0.78      0.67       123\n",
      "          이동       0.68      0.73      0.70        59\n",
      "          입항       0.74      0.69      0.71        45\n",
      "          접안       0.90      0.90      0.90        50\n",
      "          출항       0.77      0.77      0.77        91\n",
      "          통과       0.84      0.69      0.75        96\n",
      "          투묘       0.74      0.69      0.71        58\n",
      "          횡단       0.88      0.58      0.70        26\n",
      "\n",
      "   micro avg       0.72      0.72      0.72       660\n",
      "   macro avg       0.74      0.68      0.70       660\n",
      "weighted avg       0.74      0.72      0.72       660\n",
      "\n",
      "              precision    recall  f1-score   support\n",
      "\n",
      "          도선       0.68      0.57      0.62        30\n",
      "          선박       0.71      0.69      0.70        49\n",
      "          양묘       0.50      0.29      0.36        14\n",
      "          육상       0.60      0.80      0.68       128\n",
      "          이동       0.73      0.69      0.71        64\n",
      "          입항       0.80      0.71      0.75        49\n",
      "          접안       0.95      0.79      0.87        53\n",
      "          출항       0.88      0.79      0.83        97\n",
      "          통과       0.75      0.77      0.76       113\n",
      "          투묘       0.81      0.74      0.78        47\n",
      "          횡단       0.64      0.44      0.52        16\n",
      "\n",
      "   micro avg       0.73      0.73      0.73       660\n",
      "   macro avg       0.73      0.66      0.69       660\n",
      "weighted avg       0.75      0.73      0.74       660\n",
      "\n"
     ]
    }
   ],
   "source": [
    "for train_index, test_index in cv.split(raw_data2) :\n",
    "    lgbmc.fit(raw_data2.iloc[train_index].values, temp_category[train_index])\n",
    "    yhat = lgbmc.predict(raw_data2.iloc[test_index].values)\n",
    "    print(classification_report(temp_category[test_index], yhat))"
   ]
  },
  {
   "cell_type": "code",
   "execution_count": 169,
   "metadata": {},
   "outputs": [],
   "source": [
    "lgbmc2 = lightgbm.LGBMClassifier(n_jobs = 12, n_estimators = 500, max_depth = -1)"
   ]
  },
  {
   "cell_type": "code",
   "execution_count": 170,
   "metadata": {},
   "outputs": [
    {
     "name": "stdout",
     "output_type": "stream",
     "text": [
      "              precision    recall  f1-score   support\n",
      "\n",
      "          도선       0.76      0.60      0.67        47\n",
      "          선박       0.71      0.75      0.73        53\n",
      "          양묘       0.55      0.69      0.61        16\n",
      "          육상       0.70      0.71      0.70       133\n",
      "          이동       0.70      0.71      0.71        49\n",
      "          입항       0.80      0.76      0.78        54\n",
      "          접안       0.85      0.87      0.86        53\n",
      "          출항       0.78      0.86      0.82        92\n",
      "          통과       0.81      0.72      0.76       100\n",
      "          투묘       0.65      0.70      0.67        40\n",
      "          횡단       0.62      0.65      0.64        23\n",
      "\n",
      "   micro avg       0.74      0.74      0.74       660\n",
      "   macro avg       0.72      0.73      0.72       660\n",
      "weighted avg       0.74      0.74      0.74       660\n",
      "\n",
      "              precision    recall  f1-score   support\n",
      "\n",
      "          도선       0.60      0.69      0.64        35\n",
      "          선박       0.71      0.76      0.74        55\n",
      "          양묘       0.48      0.48      0.48        21\n",
      "          육상       0.61      0.66      0.64       125\n",
      "          이동       0.69      0.61      0.65        57\n",
      "          입항       0.80      0.70      0.75        47\n",
      "          접안       0.89      0.92      0.90        51\n",
      "          출항       0.75      0.80      0.77        98\n",
      "          통과       0.73      0.73      0.73        89\n",
      "          투묘       0.82      0.61      0.70        54\n",
      "          횡단       0.58      0.54      0.56        28\n",
      "\n",
      "   micro avg       0.70      0.70      0.70       660\n",
      "   macro avg       0.70      0.68      0.69       660\n",
      "weighted avg       0.71      0.70      0.70       660\n",
      "\n",
      "              precision    recall  f1-score   support\n",
      "\n",
      "          도선       0.48      0.48      0.48        21\n",
      "          선박       0.78      0.73      0.75        52\n",
      "          양묘       0.78      0.47      0.58        30\n",
      "          육상       0.68      0.76      0.72       132\n",
      "          이동       0.68      0.76      0.72        66\n",
      "          입항       0.73      0.74      0.73        54\n",
      "          접안       0.88      0.89      0.88        47\n",
      "          출항       0.73      0.73      0.73        95\n",
      "          통과       0.69      0.69      0.69        93\n",
      "          투묘       0.70      0.66      0.68        50\n",
      "          횡단       0.69      0.55      0.61        20\n",
      "\n",
      "   micro avg       0.71      0.71      0.71       660\n",
      "   macro avg       0.71      0.68      0.69       660\n",
      "weighted avg       0.72      0.71      0.71       660\n",
      "\n",
      "              precision    recall  f1-score   support\n",
      "\n",
      "          도선       0.68      0.65      0.67        43\n",
      "          선박       0.83      0.82      0.83        55\n",
      "          양묘       0.67      0.57      0.62        14\n",
      "          육상       0.61      0.74      0.67       123\n",
      "          이동       0.71      0.69      0.70        59\n",
      "          입항       0.72      0.73      0.73        45\n",
      "          접안       0.78      0.84      0.81        50\n",
      "          출항       0.78      0.73      0.75        91\n",
      "          통과       0.84      0.70      0.76        96\n",
      "          투묘       0.70      0.74      0.72        58\n",
      "          횡단       0.86      0.69      0.77        26\n",
      "\n",
      "   micro avg       0.73      0.73      0.73       660\n",
      "   macro avg       0.74      0.72      0.73       660\n",
      "weighted avg       0.74      0.73      0.73       660\n",
      "\n",
      "              precision    recall  f1-score   support\n",
      "\n",
      "          도선       0.68      0.57      0.62        30\n",
      "          선박       0.78      0.73      0.76        49\n",
      "          양묘       0.70      0.50      0.58        14\n",
      "          육상       0.63      0.80      0.70       128\n",
      "          이동       0.77      0.72      0.74        64\n",
      "          입항       0.82      0.67      0.74        49\n",
      "          접안       0.85      0.83      0.84        53\n",
      "          출항       0.82      0.78      0.80        97\n",
      "          통과       0.72      0.78      0.75       113\n",
      "          투묘       0.79      0.66      0.72        47\n",
      "          횡단       0.80      0.50      0.62        16\n",
      "\n",
      "   micro avg       0.74      0.74      0.74       660\n",
      "   macro avg       0.76      0.69      0.72       660\n",
      "weighted avg       0.75      0.74      0.74       660\n",
      "\n"
     ]
    }
   ],
   "source": [
    "for train_index, test_index in cv.split(raw_data) :\n",
    "    lgbmc2.fit(raw_data.iloc[train_index].values, temp_category[train_index])\n",
    "    yhat = lgbmc2.predict(raw_data.iloc[test_index].values)\n",
    "    print(classification_report(temp_category[test_index], yhat))"
   ]
  },
  {
   "cell_type": "code",
   "execution_count": 173,
   "metadata": {},
   "outputs": [],
   "source": [
    "from sklearn.svm import LinearSVC"
   ]
  },
  {
   "cell_type": "code",
   "execution_count": 188,
   "metadata": {},
   "outputs": [],
   "source": [
    "lsvc = LinearSVC(C = 0.7)"
   ]
  },
  {
   "cell_type": "code",
   "execution_count": 189,
   "metadata": {},
   "outputs": [
    {
     "name": "stdout",
     "output_type": "stream",
     "text": [
      "              precision    recall  f1-score   support\n",
      "\n",
      "          도선       0.78      0.66      0.71        47\n",
      "          선박       0.78      0.81      0.80        53\n",
      "          양묘       0.75      0.75      0.75        16\n",
      "          육상       0.71      0.71      0.71       133\n",
      "          이동       0.71      0.65      0.68        49\n",
      "          입항       0.84      0.78      0.81        54\n",
      "          접안       0.83      0.83      0.83        53\n",
      "          출항       0.81      0.85      0.83        92\n",
      "          통과       0.70      0.74      0.72       100\n",
      "          투묘       0.69      0.72      0.71        40\n",
      "          횡단       0.67      0.70      0.68        23\n",
      "\n",
      "   micro avg       0.75      0.75      0.75       660\n",
      "   macro avg       0.75      0.75      0.75       660\n",
      "weighted avg       0.75      0.75      0.75       660\n",
      "\n",
      "              precision    recall  f1-score   support\n",
      "\n",
      "          도선       0.72      0.74      0.73        35\n",
      "          선박       0.74      0.67      0.70        55\n",
      "          양묘       0.76      0.62      0.68        21\n",
      "          육상       0.60      0.74      0.67       125\n",
      "          이동       0.72      0.68      0.70        57\n",
      "          입항       0.76      0.81      0.78        47\n",
      "          접안       0.94      0.90      0.92        51\n",
      "          출항       0.83      0.79      0.81        98\n",
      "          통과       0.77      0.74      0.75        89\n",
      "          투묘       0.79      0.69      0.73        54\n",
      "          횡단       0.71      0.61      0.65        28\n",
      "\n",
      "   micro avg       0.74      0.74      0.74       660\n",
      "   macro avg       0.76      0.73      0.74       660\n",
      "weighted avg       0.75      0.74      0.74       660\n",
      "\n",
      "              precision    recall  f1-score   support\n",
      "\n",
      "          도선       0.55      0.52      0.54        21\n",
      "          선박       0.77      0.65      0.71        52\n",
      "          양묘       0.83      0.63      0.72        30\n",
      "          육상       0.63      0.77      0.70       132\n",
      "          이동       0.78      0.68      0.73        66\n",
      "          입항       0.80      0.74      0.77        54\n",
      "          접안       0.91      0.89      0.90        47\n",
      "          출항       0.76      0.78      0.77        95\n",
      "          통과       0.70      0.69      0.69        93\n",
      "          투묘       0.74      0.78      0.76        50\n",
      "          횡단       0.62      0.50      0.56        20\n",
      "\n",
      "   micro avg       0.73      0.73      0.73       660\n",
      "   macro avg       0.74      0.70      0.71       660\n",
      "weighted avg       0.73      0.73      0.73       660\n",
      "\n",
      "              precision    recall  f1-score   support\n",
      "\n",
      "          도선       0.79      0.77      0.78        43\n",
      "          선박       0.71      0.64      0.67        55\n",
      "          양묘       0.57      0.57      0.57        14\n",
      "          육상       0.59      0.76      0.67       123\n",
      "          이동       0.80      0.81      0.81        59\n",
      "          입항       0.77      0.67      0.71        45\n",
      "          접안       0.91      0.84      0.87        50\n",
      "          출항       0.80      0.76      0.78        91\n",
      "          통과       0.81      0.74      0.77        96\n",
      "          투묘       0.73      0.76      0.75        58\n",
      "          횡단       0.89      0.62      0.73        26\n",
      "\n",
      "   micro avg       0.74      0.74      0.74       660\n",
      "   macro avg       0.76      0.72      0.74       660\n",
      "weighted avg       0.75      0.74      0.74       660\n",
      "\n",
      "              precision    recall  f1-score   support\n",
      "\n",
      "          도선       0.73      0.63      0.68        30\n",
      "          선박       0.76      0.69      0.72        49\n",
      "          양묘       0.69      0.64      0.67        14\n",
      "          육상       0.65      0.76      0.70       128\n",
      "          이동       0.80      0.75      0.77        64\n",
      "          입항       0.71      0.71      0.71        49\n",
      "          접안       0.93      0.77      0.85        53\n",
      "          출항       0.82      0.81      0.82        97\n",
      "          통과       0.74      0.80      0.77       113\n",
      "          투묘       0.79      0.72      0.76        47\n",
      "          횡단       0.77      0.62      0.69        16\n",
      "\n",
      "   micro avg       0.75      0.75      0.75       660\n",
      "   macro avg       0.76      0.72      0.74       660\n",
      "weighted avg       0.76      0.75      0.75       660\n",
      "\n"
     ]
    }
   ],
   "source": [
    "for train_index, test_index in cv.split(raw_data2) :\n",
    "    lsvc.fit(raw_data2.iloc[train_index].values, temp_category[train_index])\n",
    "    yhat = lsvc.predict(raw_data2.iloc[test_index].values)\n",
    "    print(classification_report(temp_category[test_index], yhat))"
   ]
  },
  {
   "cell_type": "code",
   "execution_count": 190,
   "metadata": {},
   "outputs": [],
   "source": [
    "lsvc2 = LinearSVC(C = 0.7)"
   ]
  },
  {
   "cell_type": "code",
   "execution_count": 191,
   "metadata": {},
   "outputs": [
    {
     "name": "stderr",
     "output_type": "stream",
     "text": [
      "/home/jin/miniconda3/lib/python3.6/site-packages/sklearn/svm/base.py:922: ConvergenceWarning: Liblinear failed to converge, increase the number of iterations.\n",
      "  \"the number of iterations.\", ConvergenceWarning)\n"
     ]
    },
    {
     "name": "stdout",
     "output_type": "stream",
     "text": [
      "              precision    recall  f1-score   support\n",
      "\n",
      "          도선       0.70      0.66      0.68        47\n",
      "          선박       0.78      0.87      0.82        53\n",
      "          양묘       0.60      0.75      0.67        16\n",
      "          육상       0.72      0.63      0.67       133\n",
      "          이동       0.65      0.63      0.64        49\n",
      "          입항       0.76      0.76      0.76        54\n",
      "          접안       0.80      0.85      0.83        53\n",
      "          출항       0.79      0.83      0.81        92\n",
      "          통과       0.69      0.66      0.67       100\n",
      "          투묘       0.63      0.72      0.67        40\n",
      "          횡단       0.71      0.74      0.72        23\n",
      "\n",
      "   micro avg       0.72      0.72      0.72       660\n",
      "   macro avg       0.71      0.74      0.72       660\n",
      "weighted avg       0.72      0.72      0.72       660\n",
      "\n"
     ]
    },
    {
     "name": "stderr",
     "output_type": "stream",
     "text": [
      "/home/jin/miniconda3/lib/python3.6/site-packages/sklearn/svm/base.py:922: ConvergenceWarning: Liblinear failed to converge, increase the number of iterations.\n",
      "  \"the number of iterations.\", ConvergenceWarning)\n"
     ]
    },
    {
     "name": "stdout",
     "output_type": "stream",
     "text": [
      "              precision    recall  f1-score   support\n",
      "\n",
      "          도선       0.61      0.71      0.66        35\n",
      "          선박       0.75      0.69      0.72        55\n",
      "          양묘       0.55      0.52      0.54        21\n",
      "          육상       0.59      0.63      0.61       125\n",
      "          이동       0.69      0.67      0.68        57\n",
      "          입항       0.65      0.72      0.69        47\n",
      "          접안       0.90      0.90      0.90        51\n",
      "          출항       0.80      0.80      0.80        98\n",
      "          통과       0.72      0.73      0.73        89\n",
      "          투묘       0.76      0.59      0.67        54\n",
      "          횡단       0.68      0.61      0.64        28\n",
      "\n",
      "   micro avg       0.70      0.70      0.70       660\n",
      "   macro avg       0.70      0.69      0.69       660\n",
      "weighted avg       0.71      0.70      0.70       660\n",
      "\n"
     ]
    },
    {
     "name": "stderr",
     "output_type": "stream",
     "text": [
      "/home/jin/miniconda3/lib/python3.6/site-packages/sklearn/svm/base.py:922: ConvergenceWarning: Liblinear failed to converge, increase the number of iterations.\n",
      "  \"the number of iterations.\", ConvergenceWarning)\n"
     ]
    },
    {
     "name": "stdout",
     "output_type": "stream",
     "text": [
      "              precision    recall  f1-score   support\n",
      "\n",
      "          도선       0.48      0.48      0.48        21\n",
      "          선박       0.75      0.63      0.69        52\n",
      "          양묘       0.72      0.60      0.65        30\n",
      "          육상       0.63      0.70      0.66       132\n",
      "          이동       0.72      0.67      0.69        66\n",
      "          입항       0.75      0.74      0.75        54\n",
      "          접안       0.90      0.91      0.91        47\n",
      "          출항       0.77      0.78      0.77        95\n",
      "          통과       0.64      0.62      0.63        93\n",
      "          투묘       0.64      0.74      0.69        50\n",
      "          횡단       0.56      0.45      0.50        20\n",
      "\n",
      "   micro avg       0.69      0.69      0.69       660\n",
      "   macro avg       0.69      0.67      0.67       660\n",
      "weighted avg       0.70      0.69      0.69       660\n",
      "\n"
     ]
    },
    {
     "name": "stderr",
     "output_type": "stream",
     "text": [
      "/home/jin/miniconda3/lib/python3.6/site-packages/sklearn/svm/base.py:922: ConvergenceWarning: Liblinear failed to converge, increase the number of iterations.\n",
      "  \"the number of iterations.\", ConvergenceWarning)\n"
     ]
    },
    {
     "name": "stdout",
     "output_type": "stream",
     "text": [
      "              precision    recall  f1-score   support\n",
      "\n",
      "          도선       0.77      0.70      0.73        43\n",
      "          선박       0.73      0.67      0.70        55\n",
      "          양묘       0.40      0.43      0.41        14\n",
      "          육상       0.53      0.67      0.59       123\n",
      "          이동       0.69      0.71      0.70        59\n",
      "          입항       0.71      0.67      0.69        45\n",
      "          접안       0.93      0.86      0.90        50\n",
      "          출항       0.74      0.70      0.72        91\n",
      "          통과       0.77      0.72      0.74        96\n",
      "          투묘       0.75      0.69      0.72        58\n",
      "          횡단       0.76      0.62      0.68        26\n",
      "\n",
      "   micro avg       0.70      0.70      0.70       660\n",
      "   macro avg       0.71      0.68      0.69       660\n",
      "weighted avg       0.71      0.70      0.70       660\n",
      "\n",
      "              precision    recall  f1-score   support\n",
      "\n",
      "          도선       0.67      0.60      0.63        30\n",
      "          선박       0.85      0.69      0.76        49\n",
      "          양묘       0.64      0.64      0.64        14\n",
      "          육상       0.64      0.70      0.66       128\n",
      "          이동       0.75      0.72      0.74        64\n",
      "          입항       0.66      0.67      0.67        49\n",
      "          접안       0.90      0.81      0.85        53\n",
      "          출항       0.84      0.78      0.81        97\n",
      "          통과       0.68      0.78      0.72       113\n",
      "          투묘       0.72      0.72      0.72        47\n",
      "          횡단       0.77      0.62      0.69        16\n",
      "\n",
      "   micro avg       0.73      0.73      0.73       660\n",
      "   macro avg       0.74      0.70      0.72       660\n",
      "weighted avg       0.73      0.73      0.73       660\n",
      "\n"
     ]
    },
    {
     "name": "stderr",
     "output_type": "stream",
     "text": [
      "/home/jin/miniconda3/lib/python3.6/site-packages/sklearn/svm/base.py:922: ConvergenceWarning: Liblinear failed to converge, increase the number of iterations.\n",
      "  \"the number of iterations.\", ConvergenceWarning)\n"
     ]
    }
   ],
   "source": [
    "for train_index, test_index in cv.split(raw_data) :\n",
    "    lsvc2.fit(raw_data.iloc[train_index].values, temp_category[train_index])\n",
    "    yhat = lsvc2.predict(raw_data.iloc[test_index].values)\n",
    "    print(classification_report(temp_category[test_index], yhat))"
   ]
  },
  {
   "cell_type": "markdown",
   "metadata": {},
   "source": [
    "### Word Embedding으로 calssification 해보면?"
   ]
  },
  {
   "cell_type": "code",
   "execution_count": 192,
   "metadata": {},
   "outputs": [],
   "source": [
    "from gensim.models import Word2Vec"
   ]
  },
  {
   "cell_type": "code",
   "execution_count": 193,
   "metadata": {},
   "outputs": [],
   "source": [
    "embedding_model = Word2Vec.load('../LSTM/kr_word2vec_all.model')"
   ]
  },
  {
   "cell_type": "code",
   "execution_count": 194,
   "metadata": {},
   "outputs": [],
   "source": [
    "def get_mean_vector(sentence) :\n",
    "    words = sentence.split()\n",
    "    result = []\n",
    "    for word in words :\n",
    "        try :\n",
    "            result.append(embedding_model.wv.get_vector(word))\n",
    "        except :\n",
    "            continue\n",
    "    result = np.array(result)\n",
    "    if result.sum() == 0 :\n",
    "        result = np.zeros((1, 300))\n",
    "    result = result.mean(axis = 0)\n",
    "    return result\n",
    "    "
   ]
  },
  {
   "cell_type": "code",
   "execution_count": 195,
   "metadata": {},
   "outputs": [],
   "source": [
    "embedding_data = np.array(None)\n",
    "for sentence in temp_script :\n",
    "    embedding_data = np.append(embedding_data, get_mean_vector(sentence))"
   ]
  },
  {
   "cell_type": "code",
   "execution_count": 196,
   "metadata": {},
   "outputs": [],
   "source": [
    "embedding_data = np.delete(embedding_data, 0)"
   ]
  },
  {
   "cell_type": "code",
   "execution_count": 197,
   "metadata": {},
   "outputs": [],
   "source": [
    "embedding_data = embedding_data.reshape(-1, 300)"
   ]
  },
  {
   "cell_type": "code",
   "execution_count": 198,
   "metadata": {},
   "outputs": [],
   "source": [
    "xgbc3 = xgboost.XGBClassifier(max_depth = 4, n_jobs = 12, n_estimators = 500, random_state = 777)"
   ]
  },
  {
   "cell_type": "code",
   "execution_count": 199,
   "metadata": {},
   "outputs": [
    {
     "name": "stdout",
     "output_type": "stream",
     "text": [
      "              precision    recall  f1-score   support\n",
      "\n",
      "          도선       0.73      0.68      0.70        47\n",
      "          선박       0.71      0.66      0.69        53\n",
      "          양묘       0.50      0.19      0.27        16\n",
      "          육상       0.66      0.77      0.71       133\n",
      "          이동       0.64      0.61      0.62        49\n",
      "          입항       0.81      0.72      0.76        54\n",
      "          접안       0.87      0.77      0.82        53\n",
      "          출항       0.76      0.83      0.79        92\n",
      "          통과       0.74      0.73      0.73       100\n",
      "          투묘       0.59      0.65      0.62        40\n",
      "          횡단       0.60      0.52      0.56        23\n",
      "\n",
      "   micro avg       0.71      0.71      0.71       660\n",
      "   macro avg       0.69      0.65      0.66       660\n",
      "weighted avg       0.71      0.71      0.71       660\n",
      "\n",
      "              precision    recall  f1-score   support\n",
      "\n",
      "          도선       0.59      0.77      0.67        35\n",
      "          선박       0.79      0.62      0.69        55\n",
      "          양묘       0.57      0.19      0.29        21\n",
      "          육상       0.60      0.82      0.69       125\n",
      "          이동       0.67      0.61      0.64        57\n",
      "          입항       0.81      0.64      0.71        47\n",
      "          접안       0.86      0.82      0.84        51\n",
      "          출항       0.73      0.74      0.74        98\n",
      "          통과       0.78      0.78      0.78        89\n",
      "          투묘       0.74      0.65      0.69        54\n",
      "          횡단       0.74      0.50      0.60        28\n",
      "\n",
      "   micro avg       0.70      0.70      0.70       660\n",
      "   macro avg       0.72      0.65      0.67       660\n",
      "weighted avg       0.72      0.70      0.70       660\n",
      "\n",
      "              precision    recall  f1-score   support\n",
      "\n",
      "          도선       0.54      0.62      0.58        21\n",
      "          선박       0.78      0.67      0.72        52\n",
      "          양묘       0.60      0.30      0.40        30\n",
      "          육상       0.62      0.81      0.70       132\n",
      "          이동       0.64      0.58      0.61        66\n",
      "          입항       0.76      0.76      0.76        54\n",
      "          접안       0.87      0.87      0.87        47\n",
      "          출항       0.71      0.71      0.71        95\n",
      "          통과       0.70      0.66      0.68        93\n",
      "          투묘       0.70      0.64      0.67        50\n",
      "          횡단       0.71      0.60      0.65        20\n",
      "\n",
      "   micro avg       0.69      0.69      0.69       660\n",
      "   macro avg       0.69      0.66      0.67       660\n",
      "weighted avg       0.69      0.69      0.69       660\n",
      "\n",
      "              precision    recall  f1-score   support\n",
      "\n",
      "          도선       0.83      0.56      0.67        43\n",
      "          선박       0.82      0.56      0.67        55\n",
      "          양묘       0.57      0.29      0.38        14\n",
      "          육상       0.56      0.84      0.67       123\n",
      "          이동       0.71      0.76      0.74        59\n",
      "          입항       0.82      0.60      0.69        45\n",
      "          접안       0.88      0.84      0.86        50\n",
      "          출항       0.72      0.75      0.73        91\n",
      "          통과       0.79      0.73      0.76        96\n",
      "          투묘       0.68      0.71      0.69        58\n",
      "          횡단       0.93      0.54      0.68        26\n",
      "\n",
      "   micro avg       0.71      0.71      0.71       660\n",
      "   macro avg       0.75      0.65      0.69       660\n",
      "weighted avg       0.73      0.71      0.71       660\n",
      "\n",
      "              precision    recall  f1-score   support\n",
      "\n",
      "          도선       0.71      0.50      0.59        30\n",
      "          선박       0.82      0.63      0.71        49\n",
      "          양묘       0.55      0.43      0.48        14\n",
      "          육상       0.64      0.90      0.74       128\n",
      "          이동       0.76      0.69      0.72        64\n",
      "          입항       0.80      0.65      0.72        49\n",
      "          접안       0.89      0.79      0.84        53\n",
      "          출항       0.78      0.73      0.76        97\n",
      "          통과       0.71      0.81      0.76       113\n",
      "          투묘       0.80      0.60      0.68        47\n",
      "          횡단       0.80      0.50      0.62        16\n",
      "\n",
      "   micro avg       0.73      0.73      0.73       660\n",
      "   macro avg       0.75      0.66      0.69       660\n",
      "weighted avg       0.75      0.73      0.73       660\n",
      "\n"
     ]
    }
   ],
   "source": [
    "for train_index, test_index in cv.split(embedding_data) :\n",
    "    xgbc3.fit(embedding_data[train_index], temp_category[train_index])\n",
    "    yhat = xgbc3.predict(embedding_data[test_index])\n",
    "    print(classification_report(temp_category[test_index], yhat))"
   ]
  },
  {
   "cell_type": "code",
   "execution_count": 192,
   "metadata": {},
   "outputs": [],
   "source": [
    "# lrc2 = LogisticRegression(C = 0.8, max_iter = 500, n_jobs = 12, solver = 'lbfgs')"
   ]
  },
  {
   "cell_type": "code",
   "execution_count": 193,
   "metadata": {},
   "outputs": [],
   "source": [
    "# for train_index, test_index in cv.split(embedding_data) :\n",
    "#     lrc2.fit(embedding_data[train_index], temp_category[train_index])\n",
    "#     yhat = lrc2.predict(embedding_data[test_index])\n",
    "#     print(classification_report(temp_category[test_index], yhat))"
   ]
  },
  {
   "cell_type": "markdown",
   "metadata": {},
   "source": [
    "logistic regression은 성능이 너무 안나와서 코드 실행 x"
   ]
  },
  {
   "cell_type": "markdown",
   "metadata": {},
   "source": [
    "### N-gram 사용"
   ]
  },
  {
   "cell_type": "code",
   "execution_count": 200,
   "metadata": {},
   "outputs": [],
   "source": [
    "with open('../LSTM/data_for_classification.pickle', 'rb') as f :\n",
    "    raw_data = pickle.load(f)"
   ]
  },
  {
   "cell_type": "code",
   "execution_count": 201,
   "metadata": {},
   "outputs": [],
   "source": [
    "raw_data = raw_data[raw_data.Language == 'KR']"
   ]
  },
  {
   "cell_type": "code",
   "execution_count": 202,
   "metadata": {},
   "outputs": [],
   "source": [
    "raw_data['temp_code'] = raw_data.Script_num.map(lambda x : '-'.join(x.split('-')[:3]))"
   ]
  },
  {
   "cell_type": "code",
   "execution_count": 203,
   "metadata": {},
   "outputs": [
    {
     "data": {
      "text/html": [
       "<div>\n",
       "<style scoped>\n",
       "    .dataframe tbody tr th:only-of-type {\n",
       "        vertical-align: middle;\n",
       "    }\n",
       "\n",
       "    .dataframe tbody tr th {\n",
       "        vertical-align: top;\n",
       "    }\n",
       "\n",
       "    .dataframe thead th {\n",
       "        text-align: right;\n",
       "    }\n",
       "</style>\n",
       "<table border=\"1\" class=\"dataframe\">\n",
       "  <thead>\n",
       "    <tr style=\"text-align: right;\">\n",
       "      <th></th>\n",
       "      <th>Script_num</th>\n",
       "      <th>Script</th>\n",
       "      <th>Language</th>\n",
       "      <th>Category</th>\n",
       "      <th>temp_code</th>\n",
       "    </tr>\n",
       "  </thead>\n",
       "  <tbody>\n",
       "    <tr>\n",
       "      <th>0</th>\n",
       "      <td>UL-MV-01-02</td>\n",
       "      <td>아  울산VTS [SN] 감도 있습니까?</td>\n",
       "      <td>KR</td>\n",
       "      <td>이동</td>\n",
       "      <td>UL-MV-01</td>\n",
       "    </tr>\n",
       "    <tr>\n",
       "      <th>1</th>\n",
       "      <td>UL-MV-01-03</td>\n",
       "      <td>네  [SN]</td>\n",
       "      <td>KR</td>\n",
       "      <td>이동</td>\n",
       "      <td>UL-MV-01</td>\n",
       "    </tr>\n",
       "    <tr>\n",
       "      <th>2</th>\n",
       "      <td>UL-MV-01-04</td>\n",
       "      <td>네  수고 많으십니다 본선  델타라인  통과해서 본선  1부두  접안하러 이동하겠습니다</td>\n",
       "      <td>KR</td>\n",
       "      <td>이동</td>\n",
       "      <td>UL-MV-01</td>\n",
       "    </tr>\n",
       "    <tr>\n",
       "      <th>3</th>\n",
       "      <td>UL-MV-01-05</td>\n",
       "      <td>들어오세요</td>\n",
       "      <td>KR</td>\n",
       "      <td>이동</td>\n",
       "      <td>UL-MV-01</td>\n",
       "    </tr>\n",
       "    <tr>\n",
       "      <th>4</th>\n",
       "      <td>UL-MV-01-06</td>\n",
       "      <td>네 저희  지금…</td>\n",
       "      <td>KR</td>\n",
       "      <td>이동</td>\n",
       "      <td>UL-MV-01</td>\n",
       "    </tr>\n",
       "  </tbody>\n",
       "</table>\n",
       "</div>"
      ],
      "text/plain": [
       "    Script_num                                             Script Language  \\\n",
       "0  UL-MV-01-02                             아  울산VTS [SN] 감도 있습니까?       KR   \n",
       "1  UL-MV-01-03                                            네  [SN]       KR   \n",
       "2  UL-MV-01-04   네  수고 많으십니다 본선  델타라인  통과해서 본선  1부두  접안하러 이동하겠습니다       KR   \n",
       "3  UL-MV-01-05                                              들어오세요       KR   \n",
       "4  UL-MV-01-06                                          네 저희  지금…       KR   \n",
       "\n",
       "  Category temp_code  \n",
       "0       이동  UL-MV-01  \n",
       "1       이동  UL-MV-01  \n",
       "2       이동  UL-MV-01  \n",
       "3       이동  UL-MV-01  \n",
       "4       이동  UL-MV-01  "
      ]
     },
     "execution_count": 203,
     "metadata": {},
     "output_type": "execute_result"
    }
   ],
   "source": [
    "raw_data.head()"
   ]
  },
  {
   "cell_type": "code",
   "execution_count": 204,
   "metadata": {},
   "outputs": [],
   "source": [
    "temp_code2 = 'UL-MV-01'\n",
    "temp_script2 = []\n",
    "temp_category2 = []\n",
    "temp2 = ''\n",
    "for i, row in raw_data.iterrows() :\n",
    "    if temp_code2 == row.temp_code :\n",
    "        temp2 += ' ' + ''.join(row.Script)\n",
    "    else :\n",
    "        temp_code2 = row.temp_code\n",
    "        temp_script2.append(temp2.strip())\n",
    "        temp_category2.append(row.Category)\n",
    "        temp2 = ''"
   ]
  },
  {
   "cell_type": "code",
   "execution_count": 205,
   "metadata": {},
   "outputs": [],
   "source": [
    "from sklearn.feature_extraction.text import CountVectorizer"
   ]
  },
  {
   "cell_type": "code",
   "execution_count": 216,
   "metadata": {},
   "outputs": [],
   "source": [
    "ngram_vectorizer = CountVectorizer(ngram_range = (1, 2), min_df = 10)"
   ]
  },
  {
   "cell_type": "code",
   "execution_count": 217,
   "metadata": {},
   "outputs": [],
   "source": [
    "ngram = ngram_vectorizer.fit_transform(temp_script2)"
   ]
  },
  {
   "cell_type": "code",
   "execution_count": 218,
   "metadata": {},
   "outputs": [],
   "source": [
    "ngram = ngram.toarray()"
   ]
  },
  {
   "cell_type": "code",
   "execution_count": 219,
   "metadata": {},
   "outputs": [
    {
     "data": {
      "text/plain": [
       "(3300, 989)"
      ]
     },
     "execution_count": 219,
     "metadata": {},
     "output_type": "execute_result"
    }
   ],
   "source": [
    "ngram.shape"
   ]
  },
  {
   "cell_type": "code",
   "execution_count": 226,
   "metadata": {},
   "outputs": [],
   "source": [
    "xgbc3 = xgboost.XGBClassifier(max_depth = 3, n_jobs = 12, n_estimators = 500)"
   ]
  },
  {
   "cell_type": "code",
   "execution_count": 227,
   "metadata": {},
   "outputs": [
    {
     "name": "stdout",
     "output_type": "stream",
     "text": [
      "              precision    recall  f1-score   support\n",
      "\n",
      "          도선       0.81      0.74      0.78        47\n",
      "          선박       0.79      0.79      0.79        53\n",
      "          양묘       0.64      0.56      0.60        16\n",
      "          육상       0.66      0.78      0.72       133\n",
      "          이동       0.69      0.63      0.66        49\n",
      "          입항       0.89      0.76      0.82        54\n",
      "          접안       0.85      0.85      0.85        53\n",
      "          출항       0.76      0.77      0.76        92\n",
      "          통과       0.77      0.75      0.76       100\n",
      "          투묘       0.62      0.60      0.61        40\n",
      "          횡단       0.74      0.61      0.67        23\n",
      "\n",
      "   micro avg       0.74      0.74      0.74       660\n",
      "   macro avg       0.75      0.71      0.73       660\n",
      "weighted avg       0.75      0.74      0.74       660\n",
      "\n",
      "              precision    recall  f1-score   support\n",
      "\n",
      "          도선       0.71      0.71      0.71        35\n",
      "          선박       0.68      0.75      0.71        55\n",
      "          양묘       0.56      0.48      0.51        21\n",
      "          육상       0.57      0.75      0.65       125\n",
      "          이동       0.65      0.54      0.59        57\n",
      "          입항       0.74      0.68      0.71        47\n",
      "          접안       0.93      0.78      0.85        51\n",
      "          출항       0.77      0.78      0.77        98\n",
      "          통과       0.81      0.71      0.75        89\n",
      "          투묘       0.78      0.65      0.71        54\n",
      "          횡단       0.62      0.57      0.59        28\n",
      "\n",
      "   micro avg       0.70      0.70      0.70       660\n",
      "   macro avg       0.71      0.67      0.69       660\n",
      "weighted avg       0.71      0.70      0.70       660\n",
      "\n",
      "              precision    recall  f1-score   support\n",
      "\n",
      "          도선       0.61      0.67      0.64        21\n",
      "          선박       0.81      0.81      0.81        52\n",
      "          양묘       0.74      0.57      0.64        30\n",
      "          육상       0.63      0.84      0.72       132\n",
      "          이동       0.73      0.68      0.70        66\n",
      "          입항       0.75      0.74      0.75        54\n",
      "          접안       0.79      0.89      0.84        47\n",
      "          출항       0.77      0.71      0.74        95\n",
      "          통과       0.80      0.66      0.72        93\n",
      "          투묘       0.72      0.58      0.64        50\n",
      "          횡단       0.69      0.55      0.61        20\n",
      "\n",
      "   micro avg       0.73      0.73      0.73       660\n",
      "   macro avg       0.73      0.70      0.71       660\n",
      "weighted avg       0.73      0.73      0.72       660\n",
      "\n",
      "              precision    recall  f1-score   support\n",
      "\n",
      "          도선       0.72      0.77      0.74        43\n",
      "          선박       0.81      0.80      0.81        55\n",
      "          양묘       0.60      0.64      0.62        14\n",
      "          육상       0.63      0.80      0.71       123\n",
      "          이동       0.71      0.76      0.74        59\n",
      "          입항       0.79      0.67      0.72        45\n",
      "          접안       0.85      0.88      0.86        50\n",
      "          출항       0.78      0.70      0.74        91\n",
      "          통과       0.85      0.75      0.80        96\n",
      "          투묘       0.81      0.66      0.72        58\n",
      "          횡단       0.86      0.69      0.77        26\n",
      "\n",
      "   micro avg       0.75      0.75      0.75       660\n",
      "   macro avg       0.76      0.74      0.75       660\n",
      "weighted avg       0.76      0.75      0.75       660\n",
      "\n",
      "              precision    recall  f1-score   support\n",
      "\n",
      "          도선       0.68      0.63      0.66        30\n",
      "          선박       0.76      0.78      0.77        49\n",
      "          양묘       0.62      0.36      0.45        14\n",
      "          육상       0.62      0.82      0.71       128\n",
      "          이동       0.81      0.69      0.75        64\n",
      "          입항       0.79      0.76      0.77        49\n",
      "          접안       0.87      0.75      0.81        53\n",
      "          출항       0.82      0.80      0.81        97\n",
      "          통과       0.74      0.74      0.74       113\n",
      "          투묘       0.74      0.53      0.62        47\n",
      "          횡단       0.67      0.62      0.65        16\n",
      "\n",
      "   micro avg       0.73      0.73      0.73       660\n",
      "   macro avg       0.74      0.68      0.70       660\n",
      "weighted avg       0.74      0.73      0.73       660\n",
      "\n"
     ]
    }
   ],
   "source": [
    "for train_index, test_index in cv.split(ngram) :\n",
    "    xgbc3.fit(ngram[train_index], temp_category[train_index])\n",
    "    yhat = xgbc3.predict(ngram[test_index])\n",
    "    print(classification_report(temp_category[test_index], yhat))"
   ]
  },
  {
   "cell_type": "markdown",
   "metadata": {},
   "source": [
    "### Time information 반영"
   ]
  },
  {
   "cell_type": "code",
   "execution_count": null,
   "metadata": {},
   "outputs": [],
   "source": [
    "temp_code = 'UL-MV-01'\n",
    "temp_script2 = []\n",
    "temp_category2 = []\n",
    "temp2 = ''\n",
    "step = []\n",
    "temp_step = 0\n",
    "for i, row in train_kr.iterrows() :\n",
    "    temp_step += 1\n",
    "    if temp_code == row.temp_code :\n",
    "        temp2 += ' ' + ' '.join(row.Script)\n",
    "        temp_script2.append(temp2)\n",
    "        temp_category2.append(row.Category)\n",
    "        step.append(temp_step)\n",
    "    else :\n",
    "        temp_code = row.temp_code\n",
    "        temp_script2.append(temp2)\n",
    "        temp_category2.append(row.Category)\n",
    "        temp2 = ''\n",
    "        step.append(temp_step)\n",
    "        temp_step = 0"
   ]
  },
  {
   "cell_type": "code",
   "execution_count": null,
   "metadata": {},
   "outputs": [],
   "source": [
    "temp_df = pd.DataFrame(tf.transform(temp_script2).toarray(), columns = list(dictionary.keys()))"
   ]
  },
  {
   "cell_type": "code",
   "execution_count": null,
   "metadata": {},
   "outputs": [],
   "source": [
    "temp_df['category'] = temp_category2\n",
    "temp_df['step'] = step"
   ]
  },
  {
   "cell_type": "markdown",
   "metadata": {},
   "source": [
    "상위 3개 예측 category에 실제 label이 들어가면 정답"
   ]
  },
  {
   "cell_type": "code",
   "execution_count": null,
   "metadata": {},
   "outputs": [],
   "source": [
    "for i in range(1, 25) :\n",
    "    data = temp_df[temp_df.step == i].drop(['category', 'step'], axis = 1)\n",
    "    yhat = xgbc.predict(data)\n",
    "    print(classification_report(temp_df[temp_df.step == i].category.values, yhat), i)"
   ]
  },
  {
   "cell_type": "code",
   "execution_count": null,
   "metadata": {},
   "outputs": [],
   "source": []
  }
 ],
 "metadata": {
  "kernelspec": {
   "display_name": "Python 3",
   "language": "python",
   "name": "python3"
  },
  "language_info": {
   "codemirror_mode": {
    "name": "ipython",
    "version": 3
   },
   "file_extension": ".py",
   "mimetype": "text/x-python",
   "name": "python",
   "nbconvert_exporter": "python",
   "pygments_lexer": "ipython3",
   "version": "3.6.6"
  }
 },
 "nbformat": 4,
 "nbformat_minor": 2
}
